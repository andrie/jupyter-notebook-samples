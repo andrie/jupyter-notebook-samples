{
 "cells": [
  {
   "cell_type": "markdown",
   "metadata": {},
   "source": [
    "# LASSO Analysis\n",
    "\n",
    "## Introduction\n",
    "### About the method\n",
    "LASSO, which stands for Least Absolute Shrinkage and Selection Operator, is one of the model complexity control techniques like variable selection and ridge regression. In this notebook we'll demonstrate how to use the *glmnet* package for LASSO regression. For more information about LASSO you can refer to the [LASSO Page][lasso link].\n",
    "\n",
    "### Target audience\n",
    "This notebook is targeted toward data scientists who understand linear regression and want to find out how to fit LASSO regression in R. An operationalization step is also included to show how you can deploy in Azure a web service based on the selected model. \n",
    "\n",
    "## Data\n",
    "In this example, we'll use the housing data from the R package `MASS`. There are 506 rows and 14 columns in the dataset. Available information includes median home price, average number of rooms per dwelling, crime rate by town, etc. More information about this dataset can be found at [UCI][uci link] or by typing `help(Boston)` in an R terminal.\n",
    "\n",
    "## Analysis\n",
    "For illustration purposes, we'll use \"medv\" - median home price - as the response variable and the remaining variables as predictors.\n",
    "\n",
    "The first step in fitting LASSO regression is to determine the value of tuning parameter λ which controls the overall strength of the penalty. Here we'll use cross-validation to choose the λ that gives the least validation error.\n",
    "\n",
    "[lasso link]: http://statweb.stanford.edu/~tibs/lasso.html\n",
    "[uci link]: https://archive.ics.uci.edu/ml/datasets/Housing"
   ]
  },
  {
   "cell_type": "code",
   "execution_count": null,
   "metadata": {
    "collapsed": true
   },
   "outputs": [],
   "source": [
    "# to make results replicable\n",
    "set.seed(123)\n",
    "\n",
    "# show images inline\n",
    "options(jupyter.plot_mimetypes = 'image/png')\n",
    "\n",
    "# load libraries\n",
    "library(glmnet) # to fit a LASSO model\n",
    "library(MASS) # to use the Boston dataset"
   ]
  },
  {
   "cell_type": "code",
   "execution_count": null,
   "metadata": {
    "collapsed": true
   },
   "outputs": [],
   "source": [
    "# define response variable and predictor variables\n",
    "response_column <- which(colnames(Boston) %in% c(\"medv\"))\n",
    "train_X <- data.matrix(Boston[, -response_column])\n",
    "train_y <- Boston[,response_column]\n",
    "\n",
    "# use cv.glmnet with 10-fold cross-validation to pick lambda\n",
    "model1 <- cv.glmnet(x = train_X, \n",
    "                    y = train_y, \n",
    "                    alpha = 1, \n",
    "                    nfolds = 10, \n",
    "                    family = \"gaussian\", \n",
    "                    type.measure = \"mse\")"
   ]
  },
  {
   "cell_type": "code",
   "execution_count": 1,
   "metadata": {
    "collapsed": false,
    "scrolled": false
   },
   "outputs": [
    {
     "name": "stderr",
     "output_type": "stream",
     "text": [
      "Loading required package: Matrix\n",
      "Loading required package: foreach\n",
      "Loaded glmnet 2.0-2\n",
      "\n"
     ]
    },
    {
     "name": "stdout",
     "output_type": "stream",
     "text": [
      "[1] \"Started fitting LASSO\"\n",
      "[1] \"Finished fitting LASSO\"\n"
     ]
    },
    {
     "data": {
      "image/png": "[encoded data removed]"
     },
     "metadata": {},
     "output_type": "display_data"
    }
   ],
   "source": [
    "plot(model1)"
   ]
  },
  {
   "cell_type": "markdown",
   "metadata": {},
   "source": [
    "In the above plot, the red dotted line shows the cross-validation error and the error bars show the uppper and lower standard deviation. The dotted vertical line to the left is for the optimal λ that gives minimum mean cross-validation error. The vertile line to the right is for the λ whose cross-validation error falls within one standard error of the minimum error. The number of nonzero coefficients for different λ is shown along the axis at the top. The values for λ and associated coefficients are printed below."
   ]
  },
  {
   "cell_type": "code",
   "execution_count": null,
   "metadata": {
    "collapsed": true
   },
   "outputs": [],
   "source": [
    "cat(\"Lambda that gives minimum mean cross-validated error:\", \n",
    "            as.character(round(model1$lambda.min, 4)), \"\\n\\n\")\n",
    "cat(\"Largest lambda with mean cross-validated error\",\n",
    "            \"within 1 standard error of the minimum error:\", \n",
    "            as.character(round(model1$lambda.1se, 4)), \"\\n\\n\")\n",
    "cat(\"Coefficients based on lambda that gives minimum mean cross-validated error: \\n\\n\")"
   ]
  },
  {
   "cell_type": "code",
   "execution_count": 2,
   "metadata": {
    "collapsed": false,
    "scrolled": false
   },
   "outputs": [
    {
     "name": "stdout",
     "output_type": "stream",
     "text": [
      "Lambda that gives minimum mean cross-validated error: 0.0233 \n",
      "\n",
      "Largest lambda with mean cross-validated error within 1 standard error of the minimum error: 0.3453 \n",
      "\n",
      "Coefficients based on lambda that gives minimum mean cross-validated error: \n",
      "\n",
      "14 x 1 sparse Matrix of class \"dgCMatrix\"\n",
      "                        1\n",
      "(Intercept)  34.741082558\n",
      "crim         -0.099983351\n",
      "zn            0.042163911\n",
      "indus         .          \n",
      "chas          2.691362171\n",
      "nox         -16.484121381\n",
      "rm            3.856387745\n",
      "age           .          \n",
      "dis          -1.412063666\n",
      "rad           0.260319556\n",
      "tax          -0.010144690\n",
      "ptratio      -0.932724941\n",
      "black         0.009070332\n",
      "lstat        -0.522516834\n"
     ]
    }
   ],
   "source": [
    "print(coef(model1, s = \"lambda.min\"))"
   ]
  },
  {
   "cell_type": "markdown",
   "metadata": {},
   "source": [
    "While the model selected by cv.glmnet() can be used for making predictions, we also want to better understand how the values of λ impact the estimated coefficients. Such information can be produced by the glmnet() function. In the plot that's generated below, it can be observed that the coefficients shrink toward zero as the value of λ increases."
   ]
  },
  {
   "cell_type": "code",
   "execution_count": null,
   "metadata": {
    "collapsed": true
   },
   "outputs": [],
   "source": [
    "model2 <- glmnet(x = train_X, \n",
    "                 y = train_y, \n",
    "                 alpha = 1, \n",
    "                 family = \"gaussian\")\n",
    "\n",
    "# identify variable names\n",
    "vn = colnames(train_X)\n",
    "vid <- as.character(seq(1, length(vn)))\n",
    "\n",
    "# check and exclude the variables with coefficient value 0 \n",
    "vnat = coef(model2)\n",
    "vnat_f <- vnat[-1, ncol(vnat)] \n",
    "vid <- vid[vnat_f != 0]\n",
    "vn <- vn[vnat_f != 0]\n",
    "\n",
    "#define the legend description, line type, and line color\n",
    "nvars <- length(vn)\n",
    "legend_desc <- paste(vid, vn, sep=\": \")\n",
    "legend_desc\n",
    "mylty <- rep(1,nvars)\n",
    "mycl <- seq(1,nvars)"
   ]
  },
  {
   "cell_type": "code",
   "execution_count": 3,
   "metadata": {
    "collapsed": false,
    "scrolled": false
   },
   "outputs": [
    {
     "data": {
      "text/html": [
       "<ol class=list-inline>\n",
       "\t<li>\"1: crim\"</li>\n",
       "\t<li>\"2: zn\"</li>\n",
       "\t<li>\"3: indus\"</li>\n",
       "\t<li>\"4: chas\"</li>\n",
       "\t<li>\"5: nox\"</li>\n",
       "\t<li>\"6: rm\"</li>\n",
       "\t<li>\"8: dis\"</li>\n",
       "\t<li>\"9: rad\"</li>\n",
       "\t<li>\"10: tax\"</li>\n",
       "\t<li>\"11: ptratio\"</li>\n",
       "\t<li>\"12: black\"</li>\n",
       "\t<li>\"13: lstat\"</li>\n",
       "</ol>\n"
      ],
      "text/latex": [
       "\\begin{enumerate*}\n",
       "\\item \"1: crim\"\n",
       "\\item \"2: zn\"\n",
       "\\item \"3: indus\"\n",
       "\\item \"4: chas\"\n",
       "\\item \"5: nox\"\n",
       "\\item \"6: rm\"\n",
       "\\item \"8: dis\"\n",
       "\\item \"9: rad\"\n",
       "\\item \"10: tax\"\n",
       "\\item \"11: ptratio\"\n",
       "\\item \"12: black\"\n",
       "\\item \"13: lstat\"\n",
       "\\end{enumerate*}\n"
      ],
      "text/markdown": [
       "1. \"1: crim\"\n",
       "2. \"2: zn\"\n",
       "3. \"3: indus\"\n",
       "4. \"4: chas\"\n",
       "5. \"5: nox\"\n",
       "6. \"6: rm\"\n",
       "7. \"8: dis\"\n",
       "8. \"9: rad\"\n",
       "9. \"10: tax\"\n",
       "10. \"11: ptratio\"\n",
       "11. \"12: black\"\n",
       "12. \"13: lstat\"\n",
       "\n",
       "\n"
      ],
      "text/plain": [
       " [1] \"1: crim\"     \"2: zn\"       \"3: indus\"    \"4: chas\"     \"5: nox\"     \n",
       " [6] \"6: rm\"       \"8: dis\"      \"9: rad\"      \"10: tax\"     \"11: ptratio\"\n",
       "[11] \"12: black\"   \"13: lstat\"  "
      ]
     },
     "execution_count": 3,
     "metadata": {},
     "output_type": "execute_result"
    },
    {
     "data": {
      "image/png": "[encoded data removed]"
     },
     "metadata": {},
     "output_type": "display_data"
    }
   ],
   "source": [
    "# plot\n",
    "plot(model2, xvar = \"lambda\", label = TRUE, col = mycl, xlim = c(-5.5, 2))\n",
    "legend(-0.5,-2, legend_desc, lty = mylty, col = mycl, cex = 0.8) "
   ]
  },
  {
   "cell_type": "markdown",
   "metadata": {},
   "source": [
    "The coefficients from this model with the optimal λ are also printed below. As we would expect, they are the same as those from using cv.glmnet()."
   ]
  },
  {
   "cell_type": "code",
   "execution_count": 4,
   "metadata": {
    "collapsed": false,
    "scrolled": true
   },
   "outputs": [
    {
     "data": {
      "text/plain": [
       "14 x 1 sparse Matrix of class \"dgCMatrix\"\n",
       "                        1\n",
       "(Intercept)  34.741082558\n",
       "crim         -0.099983351\n",
       "zn            0.042163911\n",
       "indus         .          \n",
       "chas          2.691362171\n",
       "nox         -16.484121381\n",
       "rm            3.856387745\n",
       "age           .          \n",
       "dis          -1.412063666\n",
       "rad           0.260319556\n",
       "tax          -0.010144690\n",
       "ptratio      -0.932724941\n",
       "black         0.009070332\n",
       "lstat        -0.522516834"
      ]
     },
     "execution_count": 4,
     "metadata": {},
     "output_type": "execute_result"
    }
   ],
   "source": [
    "coef(model2, s = model1$lambda.min)"
   ]
  },
  {
   "cell_type": "markdown",
   "metadata": {},
   "source": [
    "To make predictions, either of the two models can be used."
   ]
  },
  {
   "cell_type": "code",
   "execution_count": 5,
   "metadata": {
    "collapsed": false
   },
   "outputs": [
    {
     "name": "stdout",
     "output_type": "stream",
     "text": [
      "         1\n",
      "1 30.19603\n",
      "2 25.04263\n",
      "         1\n",
      "1 30.19603\n",
      "2 25.04263\n"
     ]
    }
   ],
   "source": [
    "x_new <- data.matrix(train_X[1:2, -response_column])\n",
    "predictions_train_lasso <- predict(model1, newx = x_new, s = \"lambda.min\")\n",
    "print(predictions_train_lasso)\n",
    "predictions_train_lasso2 <- predict(model2, newx = x_new, s = model1$lambda.min)\n",
    "print(predictions_train_lasso2)"
   ]
  },
  {
   "cell_type": "markdown",
   "metadata": {},
   "source": [
    "## 4 Web service\n",
    "### 4.1 Deploy a web service\n",
    "With the developed model, we can deploy a web service on Azure so that others can use it to make predictions. The \"AzureML\" package will be used for this purpose. "
   ]
  },
  {
   "cell_type": "code",
   "execution_count": 6,
   "metadata": {
    "collapsed": false
   },
   "outputs": [
    {
     "name": "stderr",
     "output_type": "stream",
     "text": [
      "Warning message:\n",
      ": package 'AzureML' was built under R version 3.2.3"
     ]
    },
    {
     "data": {
      "text/html": [
       "<table>\n",
       "<thead><tr><th></th><th scope=col>1</th></tr></thead>\n",
       "<tbody>\n",
       "\t<tr><th scope=row>1</th><td>30.19603</td></tr>\n",
       "</tbody>\n",
       "</table>\n"
      ],
      "text/latex": [
       "\\begin{tabular}{r|l}\n",
       "  & 1\\\\\n",
       "\\hline\n",
       "\t1 & 30.19603\\\\\n",
       "\\end{tabular}\n"
      ],
      "text/markdown": [
       "30.1960333258559"
      ],
      "text/plain": [
       "         1\n",
       "1 30.19603"
      ]
     },
     "execution_count": 6,
     "metadata": {},
     "output_type": "execute_result"
    }
   ],
   "source": [
    "# load the library\n",
    "library(AzureML)\n",
    "\n",
    "# workspace information\n",
    "ws <- workspace()\n",
    "\n",
    "# define predict function\n",
    "mypredict <- function(newdata){\n",
    "  require(glmnet)\n",
    "  newdata <- data.matrix(newdata) # the prediction data need to be a matrix for glmnet\n",
    "  predict(model2, newx = newdata, s = model1$lambda.min)\n",
    "}\n",
    "\n",
    "# test the prediction function\n",
    "newdata <- Boston[1, 1:13]\n",
    "mypredict(newdata)\n",
    "\n",
    "# deploy the service\n",
    "ep <- publishWebService(ws = ws, fun = mypredict, \n",
    "                        name = \"LASSOPrediction\", \n",
    "                        inputSchema = newdata, \n",
    "                        outputSchema = list(ans = \"numeric\"))"
   ]
  },
  {
   "cell_type": "markdown",
   "metadata": {},
   "source": [
    "### 4.2 Consume a web service\n",
    "With information about the workspace and and service ID, we can consume the web service with the following code."
   ]
  },
  {
   "cell_type": "code",
   "execution_count": 7,
   "metadata": {
    "collapsed": false
   },
   "outputs": [
    {
     "name": "stderr",
     "output_type": "stream",
     "text": [
      "Request failed with status 401. Waiting 5.4 seconds before retry\n",
      "......"
     ]
    },
    {
     "data": {
      "text/html": [
       "<table>\n",
       "<thead><tr><th></th><th scope=col>ans</th></tr></thead>\n",
       "<tbody>\n",
       "\t<tr><th scope=row>1</th><td>30.19603</td></tr>\n",
       "</tbody>\n",
       "</table>\n"
      ],
      "text/latex": [
       "\\begin{tabular}{r|l}\n",
       "  & ans\\\\\n",
       "\\hline\n",
       "\t1 & 30.19603\\\\\n",
       "\\end{tabular}\n"
      ],
      "text/plain": [
       "       ans\n",
       "1 30.19603"
      ]
     },
     "execution_count": 7,
     "metadata": {},
     "output_type": "execute_result"
    }
   ],
   "source": [
    "ws <- workspace()\n",
    "consume(ep, newdata)"
   ]
  },
  {
   "cell_type": "markdown",
   "metadata": {},
   "source": [
    "## 5 Conclusion\n",
    "Using the Boston housing dataset, we demonstrated how to carry out LASSO regression analysis. We started the analysis by determining the optimal value of the tuning parameter λ using cross-validation. Then we examined the impact of λ on the coefficient estimates. A web service was deployed based on the selected model."
   ]
  },
  {
   "cell_type": "markdown",
   "metadata": {},
   "source": [
    "---  \n",
    "Created by a Microsoft Employee.  \n",
    "Copyright (C) Microsoft. All Rights Reserved."
   ]
  }
 ],
 "metadata": {
  "kernelspec": {
   "display_name": "R",
   "language": "R",
   "name": "ir"
  },
  "language_info": {
   "codemirror_mode": "r",
   "file_extension": ".r",
   "mimetype": "text/x-r-source",
   "name": "R",
   "pygments_lexer": "r",
   "version": "3.2.2"
  }
 },
 "nbformat": 4,
 "nbformat_minor": 0
}
