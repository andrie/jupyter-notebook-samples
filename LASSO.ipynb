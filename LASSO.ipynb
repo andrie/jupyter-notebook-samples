{
 "cells": [
  {
   "cell_type": "markdown",
   "metadata": {},
   "source": [
    "# LASSO Analysis\n",
    "Lixun Zhang  \n",
    "Dec 15, 2015\n",
    "\n",
    "## 1 Introduction\n",
    "### 1.1 About the method\n",
    "LASSO, which stands for Least Absolute Shrinkage and Selection Operator, is one of the model complexity control techniques like variable selection and ridge regression. In this notebook we'll demonstrate how to use the *glmnet* package for LASSO regression. For more information about LASSO you can refer to the [LASSO Page][lasso link].\n",
    "\n",
    "### 1.2 Target audience\n",
    "This notebook is targeted toward data scientists who understand linear regression and want to find out how to fit LASSO regression in R. An operationalization step is also included to show how you can deploy in Azure a web service based on the selected model. \n",
    "\n",
    "## 2 Data\n",
    "In this example, we'll use the housing data from the R package *MASS*. There are 506 rows and 14 columns in the dataset. Available information includes median home price, average number of rooms per dwelling, crime rate by town, etc. More information about this dataset can be found at [UCI][uci link] or by typing \"help(Boston)\" in an R terminal.\n",
    "\n",
    "## 3 Analysis\n",
    "For illustration purposes, we'll use \"medv\" - median home price - as the response variable and the remaining variables as predictors.\n",
    "\n",
    "The first step in fitting LASSO regression is to determine the value of tuning parameter λ which controls the overall strength of the penalty. Here we'll use cross-validation to choose the λ that gives the least validation error.\n",
    "\n",
    "[lasso link]: http://statweb.stanford.edu/~tibs/lasso.html\n",
    "[uci link]: https://archive.ics.uci.edu/ml/datasets/Housing"
   ]
  },
  {
   "cell_type": "code",
   "execution_count": 1,
   "metadata": {
    "collapsed": false,
    "scrolled": false
   },
   "outputs": [
    {
     "name": "stderr",
     "output_type": "stream",
     "text": [
      "Loading required package: Matrix\n",
      "Loading required package: foreach\n",
      "Loaded glmnet 2.0-2\n",
      "\n"
     ]
    },
    {
     "name": "stdout",
     "output_type": "stream",
     "text": [
      "[1] \"Started fitting LASSO\"\n",
      "[1] \"Finished fitting LASSO\"\n"
     ]
    },
    {
     "data": {
      "image/png": "[encoded data removed]"
     },
     "metadata": {},
     "output_type": "display_data"
    }
   ],
   "source": [
    "# show images inline\n",
    "options(jupyter.plot_mimetypes = 'image/png')\n",
    "\n",
    "# load libraries\n",
    "library(glmnet)\n",
    "library(MASS)\n",
    "\n",
    "# define response variable and predictor variables\n",
    "response_column <- which(colnames(Boston) %in% c(\"medv\"))\n",
    "train_X <- data.matrix(Boston[, -response_column])\n",
    "train_y <- Boston[,response_column]\n",
    "\n",
    "# use cv.glmnet with 10-fold cross-validation to pick lambda\n",
    "print(\"Started fitting LASSO\")\n",
    "model1 <- cv.glmnet(x = train_X, y = train_y, alpha = 1, nfolds = 10, \n",
    "                    family = \"gaussian\", type.measure = \"mse\")\n",
    "print(\"Finished fitting LASSO\")\n",
    "plot(model1)"
   ]
  },
  {
   "cell_type": "markdown",
   "metadata": {},
   "source": [
    "In the above plot, the red dotted line shows the cross-validation error and the error bars show the uppper and lower standard deviation. The dotted vertical line to the left is for the optimal λ that gives minimum mean cross-validation error. The vertile line to the right is for the λ whose cross-validation error falls within one standard error of the minimum error. The number of nonzero coefficients for different λ is shown along the axis at the top. The values for λ and associated coefficients are printed below."
   ]
  },
  {
   "cell_type": "code",
   "execution_count": 2,
   "metadata": {
    "collapsed": false,
    "scrolled": true
   },
   "outputs": [
    {
     "name": "stdout",
     "output_type": "stream",
     "text": [
      "Lambda that gives minimum mean cross-validated error: 0.0193 \n",
      "\n",
      "Largest lambda with mean cross-validated error within 1 standard error of the minimum error: 0.3789 \n",
      "\n",
      "Coefficients based on lambda that gives minimum mean cross-validated error:14 x 1 sparse Matrix of class \"dgCMatrix\"\n",
      "                        1\n",
      "(Intercept)  35.009928169\n",
      "crim         -0.101393480\n",
      "zn            0.042784125\n",
      "indus         .          \n",
      "chas          2.696136603\n",
      "nox         -16.634667961\n",
      "rm            3.847231871\n",
      "age           .          \n",
      "dis          -1.425687466\n",
      "rad           0.266888579\n",
      "tax          -0.010418000\n",
      "ptratio      -0.935038260\n",
      "black         0.009107537\n",
      "lstat        -0.522525376\n"
     ]
    }
   ],
   "source": [
    "cat(\"Lambda that gives minimum mean cross-validated error:\", \n",
    "            as.character(round(model1$lambda.min, 4)), \"\\n\\n\")\n",
    "cat(\"Largest lambda with mean cross-validated error\",\n",
    "            \"within 1 standard error of the minimum error:\", \n",
    "            as.character(round(model1$lambda.1se, 4)), \"\\n\\n\")\n",
    "cat(\"Coefficients based on lambda that gives minimum mean cross-validated error:\")\n",
    "print(coef(model1, s = \"lambda.min\"))"
   ]
  },
  {
   "cell_type": "markdown",
   "metadata": {},
   "source": [
    "While the model selected by cv.glmnet() can be used for making predictions, we also want to better understand how the values of λ impact the estimated coefficients. Such information can be produced by the glmnet() function. In the plot that's generated below, it can be observed that the coefficients shrink toward zero as the value of λ increases."
   ]
  },
  {
   "cell_type": "code",
   "execution_count": 3,
   "metadata": {
    "collapsed": false,
    "scrolled": false
   },
   "outputs": [
    {
     "data": {
      "image/png": "[encoded data removed]"
     },
     "metadata": {},
     "output_type": "display_data"
    }
   ],
   "source": [
    "model2 <- glmnet(x = train_X, y = train_y, alpha = 1, family = \"gaussian\")\n",
    "plot(model2, xvar = \"lambda\", label = TRUE)\n",
    "\n",
    "# add labels for variables\n",
    "vn = colnames(train_X)\n",
    "par(mar = c(5, 4, 4, 2) + 0.1) \n",
    "vnat=coef(model2)\n",
    "vnat=vnat[-1,ncol(vnat)] # remove the intercept, and get the coefficients at the end of the path\n",
    "axis(4, at=vnat, line=-.5, label=vn, las=1, tick=FALSE, cex.axis=0.5) "
   ]
  },
  {
   "cell_type": "code",
   "execution_count": 4,
   "metadata": {
    "collapsed": false,
    "scrolled": false
   },
   "outputs": [
    {
     "name": "stderr",
     "output_type": "stream",
     "text": [
      "   [[ suppressing 76 column names 's0', 's1', 's2' ... ]]\n",
      "   [[ suppressing 76 column names 's0', 's1', 's2' ... ]]\n"
     ]
    },
    {
     "data": {
      "text/plain": [
       "14 x 76 sparse Matrix of class \"dgCMatrix\"\n",
       "                                                                            \n",
       "(Intercept) 22.53281 23.60072190 23.6726400 21.4464864 19.4205718 17.5746365\n",
       "crim         .        .           .          .          .          .        \n",
       "zn           .        .           .          .          .          .        \n",
       "indus        .        .           .          .          .          .        \n",
       "chas         .        .           .          .          .          .        \n",
       "nox          .        .           .          .          .          .        \n",
       "rm           .        .           0.1278413  0.5694424  0.9714620  1.3377669\n",
       "age          .        .           .          .          .          .        \n",
       "dis          .        .           .          .          .          .        \n",
       "rad          .        .           .          .          .          .        \n",
       "tax          .        .           .          .          .          .        \n",
       "ptratio      .        .           .          .          .          .        \n",
       "black        .        .           .          .          .          .        \n",
       "lstat        .       -0.08439977 -0.1535809 -0.1969814 -0.2365474 -0.2725985\n",
       "                                                                            \n",
       "(Intercept) 15.892689 14.3601611 12.9637788 12.5561531 13.0907260 13.5772340\n",
       "crim         .         .          .          .          .          .        \n",
       "zn           .         .          .          .          .          .        \n",
       "indus        .         .          .          .          .          .        \n",
       "chas         .         .          .          .          .          .        \n",
       "nox          .         .          .          .          .          .        \n",
       "rm           1.671530  1.9756431  2.2527393  2.4795400  2.6603223  2.8251240\n",
       "age          .         .          .          .          .          .        \n",
       "dis          .         .          .          .          .          .        \n",
       "rad          .         .          .          .          .          .        \n",
       "tax          .         .          .          .          .          .        \n",
       "ptratio      .         .          .         -0.0401687 -0.1192839 -0.1913698\n",
       "black        .         .          .          .          .          .        \n",
       "lstat       -0.305447 -0.3353772 -0.3626486 -0.3844930 -0.4011381 -0.4162997\n",
       "                                                                             \n",
       "(Intercept) 14.0205209 14.4251895 14.7931624 15.1284297 15.4339128 15.7122575\n",
       "crim         .          .          .          .          .          .        \n",
       "zn           .          .          .          .          .          .        \n",
       "indus        .          .          .          .          .          .        \n",
       "chas         .          .          .          .          .          .        \n",
       "nox          .          .          .          .          .          .        \n",
       "rm           2.9752853  3.1119189  3.2365996  3.3502065  3.4537210  3.5480395\n",
       "age          .          .          .          .          .          .        \n",
       "dis          .          .          .          .          .          .        \n",
       "rad          .          .          .          .          .          .        \n",
       "tax          .          .          .          .          .          .        \n",
       "ptratio     -0.2570519 -0.3168659 -0.3713991 -0.4210879 -0.4663624 -0.5076149\n",
       "black        .          .          .          .          .          .        \n",
       "lstat       -0.4301145 -0.4427170 -0.4541851 -0.4646341 -0.4741550 -0.4828300\n",
       "                                                                           \n",
       "(Intercept) 15.9658749 15.7970496429 15.468034109 15.149689961 14.861022671\n",
       "crim         .          .             .            .            .          \n",
       "zn           .          .             .            .            .          \n",
       "indus        .          .             .            .            .          \n",
       "chas         .          .             .            0.128706018  0.412363304\n",
       "nox          .          .             .            .            .          \n",
       "rm           3.6339790  3.7260255840  3.816165374  3.896100547  3.962718569\n",
       "age          .          .             .            .            .          \n",
       "dis          .          .             .            .            .          \n",
       "rad          .          .             .            .            .          \n",
       "tax          .          .             .            .            .          \n",
       "ptratio     -0.5452026 -0.5774794645 -0.606026131 -0.630523517 -0.650724355\n",
       "black        .          0.0006479786  0.001518042  0.002301817  0.002993802\n",
       "lstat       -0.4907343 -0.4942974836 -0.495954410 -0.497563634 -0.499430302\n",
       "                                                                          \n",
       "(Intercept) 14.59388930 14.350448851 14.126705818 13.875452683 13.90417149\n",
       "crim         .           .           -0.001465439 -0.004750340 -0.00877571\n",
       "zn           .           .            .            .            .         \n",
       "indus        .           .            .            .            .         \n",
       "chas         0.67067358  0.906034678  1.119327272  1.313492710  1.45712935\n",
       "nox          .           .            .            .            .         \n",
       "rm           4.02397156  4.079788154  4.130188269  4.181880614  4.21733517\n",
       "age          .           .            .            .            .         \n",
       "dis          .           .            .            .           -0.02942942\n",
       "rad          .           .            .            .            .         \n",
       "tax          .           .            .            .            .         \n",
       "ptratio     -0.66916199 -0.685961897 -0.700311753 -0.712574008 -0.72558922\n",
       "black        0.00362614  0.004202317  0.004689042  0.005099843  0.00552638\n",
       "lstat       -0.50108591 -0.502594040 -0.503481512 -0.503117204 -0.50684543\n",
       "                                                                            \n",
       "(Intercept) 14.161113866 14.952941620 16.268762379 17.471486288 18.567394097\n",
       "crim        -0.013309174 -0.016820727 -0.019439916 -0.021826808 -0.024001671\n",
       "zn           .            .            .            .            .          \n",
       "indus        .            .            .            .            .          \n",
       "chas         1.562819145  1.675294134  1.791658205  1.897718337  1.994355944\n",
       "nox          .           -0.708755141 -2.085387037 -3.341293717 -4.485651802\n",
       "rm           4.237264636  4.251922442  4.259590140  4.266279454  4.272373008\n",
       "age          .            .            .            .            .          \n",
       "dis         -0.080074543 -0.149254588 -0.237030303 -0.317122209 -0.390100184\n",
       "rad          .            .            .            .            .          \n",
       "tax          .            .            .            .            .          \n",
       "ptratio     -0.738845222 -0.754242569 -0.771520796 -0.787265492 -0.801611503\n",
       "black        0.005949482  0.006241931  0.006407868  0.006558204  0.006695178\n",
       "lstat       -0.513735694 -0.517173282 -0.517661470 -0.518129464 -0.518555953\n",
       "                                                                            \n",
       "(Intercept) 19.562108632 20.443234540 21.248597773 21.982341093 22.650899614\n",
       "crim        -0.026508930 -0.029579467 -0.032386551 -0.034943926 -0.037274106\n",
       "zn           0.001530975  0.005117086  0.008396934  0.011385002  0.014107613\n",
       "indus        .            .            .            .            .          \n",
       "chas         2.084417210  2.168428937  2.244958389  2.314692510  2.378231694\n",
       "nox         -5.537820948 -6.478368195 -7.332177472 -8.110065879 -8.818849072\n",
       "rm           4.271661527  4.261458164  4.251522556  4.242473848  4.234229178\n",
       "age          .            .            .            .            .          \n",
       "dis         -0.467615330 -0.553162687 -0.631213121 -0.702323095 -0.767115781\n",
       "rad          .            .            .            .            .          \n",
       "tax          .            .            .            .            .          \n",
       "ptratio     -0.810807359 -0.813351925 -0.815597188 -0.817644211 -0.819509409\n",
       "black        0.006827001  0.006958143  0.007076584  0.007184524  0.007282875\n",
       "lstat       -0.518896379 -0.519363373 -0.519864563 -0.520321166 -0.520737188\n",
       "                                                                  \n",
       "(Intercept) 23.353458430  24.377850335  25.289727132  26.265441533\n",
       "crim        -0.040195642  -0.046237349  -0.051377303  -0.056304773\n",
       "zn           0.016474798   0.018268212   0.020223247   0.022498680\n",
       "indus       -0.003689018  -0.009639918  -0.013065442  -0.010005006\n",
       "chas         2.438397214   2.491724183   2.530033157   2.544478370\n",
       "nox         -9.442384334 -10.310559396 -10.962782658 -11.552370457\n",
       "rm           4.218091224   4.191928656   4.163603454   4.133062335\n",
       "age          .             .             .             .          \n",
       "dis         -0.829027662  -0.888732002  -0.941973487  -0.988853862\n",
       "rad          0.002518770   0.014467604   0.028808391   0.053040700\n",
       "tax          .             .            -0.000320548  -0.001373734\n",
       "ptratio     -0.822487966  -0.837298633  -0.847897521  -0.857096797\n",
       "black        0.007384673   0.007575262   0.007735573   0.007876045\n",
       "lstat       -0.521141737  -0.520866936  -0.521327300  -0.521622410\n",
       "                                                                   \n",
       "(Intercept)  27.168567521  27.986181861  28.730341834  2.941425e+01\n",
       "crim         -0.060894515  -0.065039904  -0.068811070 -7.228841e-02\n",
       "zn            0.024615792   0.026538212   0.028287918  2.989001e-02\n",
       "indus        -0.007297361  -0.004900772  -0.002722959 -6.609862e-04\n",
       "chas          2.557346555   2.569388358   2.580413325  2.590094e+00\n",
       "nox         -12.099449221 -12.595647222 -13.047555004 -1.346160e+01\n",
       "rm            4.104769536   4.079222022   4.055992083  4.034553e+00\n",
       "age           .             .             .            .           \n",
       "dis          -1.032364999  -1.071991060  -1.108078810 -1.140984e+00\n",
       "rad           0.075474155   0.095699234   0.114095545  1.311007e-01\n",
       "tax          -0.002346088  -0.003222644  -0.004019917 -4.757059e-03\n",
       "ptratio      -0.865536672  -0.873139215  -0.880058856 -8.864579e-01\n",
       "black         0.008004311   0.008120518   0.008226330  8.323480e-03\n",
       "lstat        -0.521820562  -0.521999136  -0.522160914 -5.223123e-01\n",
       "                                                                   \n",
       "(Intercept)  30.034673559  30.589639359  31.100096261  31.559602826\n",
       "crim         -0.075482988  -0.078366680  -0.081032219  -0.083417938\n",
       "zn            0.031316408   0.032600338   0.033776311   0.034838515\n",
       "indus         .             .             .             .          \n",
       "chas          2.600826188   2.611564575   2.621102887   2.630086780\n",
       "nox         -13.822312462 -14.137164932 -14.424681255 -14.685749775\n",
       "rm            4.014242370   3.995671803   3.978450380   3.963110387\n",
       "age           .             .             .             .          \n",
       "dis          -1.171827123  -1.200249779  -1.226220505  -1.249766770\n",
       "rad           0.146267904   0.159679592   0.172093205   0.183187538\n",
       "tax          -0.005396298  -0.005954901  -0.006471554  -0.006933612\n",
       "ptratio      -0.892024291  -0.896802232  -0.901213017  -0.905175711\n",
       "black         0.008410550   0.008488203   0.008559462   0.008623886\n",
       "lstat        -0.522360535  -0.522376782  -0.522393577  -0.522406130\n",
       "                                                                   \n",
       "(Intercept)  31.983719572  32.364581000  32.717048027  33.032537718\n",
       "crim         -0.085633397  -0.087610024  -0.089451980  -0.091088609\n",
       "zn            0.035815478   0.036695023   0.037506924   0.038234464\n",
       "indus         .             .             .             .          \n",
       "chas          2.637986594   2.645483035   2.652020942   2.658283708\n",
       "nox         -14.924469013 -15.141064449 -15.339292016 -15.518854913\n",
       "rm            3.948789627   3.936096871   3.924182780   3.913687750\n",
       "age           .             .             .             .          \n",
       "dis          -1.271335669  -1.290853296  -1.308770114  -1.324936435\n",
       "rad           0.193506384   0.202697633   0.211277977   0.218888599\n",
       "tax          -0.007363076  -0.007745828  -0.008102936  -0.008419827\n",
       "ptratio      -0.908840187  -0.912130301  -0.915174989  -0.917906736\n",
       "black         0.008683074   0.008736552   0.008785715   0.008830110\n",
       "lstat        -0.522420631  -0.522430050  -0.522442620  -0.522450040\n",
       "                                                                   \n",
       "(Intercept)  33.325498100  33.586605933  33.830136082  34.045951491\n",
       "crim         -0.092620214  -0.093973998  -0.095247648  -0.096365803\n",
       "zn            0.038909419   0.039510386   0.040071698   0.040567190\n",
       "indus         .             .             .             .          \n",
       "chas          2.663692147   2.668932088   2.673404963   2.677797325\n",
       "nox         -15.683480451 -15.832157981 -15.968911965 -16.091776275\n",
       "rm            3.903773621   3.895103346   3.886852696   3.879698087\n",
       "age           .             .             .             .          \n",
       "dis          -1.339822838  -1.353199455  -1.365571282  -1.376623666\n",
       "rad           0.226024047   0.232320994   0.238255004   0.243459038\n",
       "tax          -0.008716805  -0.008978974  -0.009225957  -0.009442628\n",
       "ptratio      -0.920436045  -0.922703693  -0.924804463  -0.926685654\n",
       "black         0.008870944   0.008907803   0.008941714   0.008972315\n",
       "lstat        -0.522460947  -0.522467523  -0.522476864  -0.522483752\n",
       "                                                                   \n",
       "(Intercept)  34.248405456  34.426424804  34.594713536  34.741082558\n",
       "crim         -0.097424931  -0.098346337  -0.099226869  -0.099983351\n",
       "zn            0.041034124   0.041441612   0.041830020   0.042163911\n",
       "indus         .             .             .             .          \n",
       "chas          2.681496880   2.685187736   2.688250324   2.691362171\n",
       "nox         -16.205420456 -16.306645232 -16.401122005 -16.484121381\n",
       "rm            3.872832939   3.866938877   3.861229964   3.856387745\n",
       "age           .             .             .             .          \n",
       "dis          -1.386908239  -1.396021614  -1.404571750  -1.412063666\n",
       "rad           0.248393350   0.252686500   0.256788020   0.260319556\n",
       "tax          -0.009648008  -0.009826799  -0.009997514  -0.010144690\n",
       "ptratio      -0.928430214  -0.929988658  -0.931437290  -0.932724941\n",
       "black         0.009000473   0.009025875   0.009049252   0.009070332\n",
       "lstat        -0.522491506  -0.522499839  -0.522505968  -0.522516834\n",
       "                                                                   \n",
       "(Intercept)  34.880894915  35.009928169  35.119429385  35.225252808\n",
       "crim         -0.100714832  -0.101393480  -0.101959353  -0.102513087\n",
       "zn            0.042486737   0.042784125   0.043032597   0.043276692\n",
       "indus         .             .             .             .          \n",
       "chas          2.693903097   2.696136603   2.698519469   2.700442679\n",
       "nox         -16.562664331 -16.634667961 -16.696340291 -16.755818231\n",
       "rm            3.851646315   3.847231871   3.843603201   3.840016222\n",
       "age           .             .             .             .          \n",
       "dis          -1.419168850  -1.425687466  -1.431281553  -1.436656218\n",
       "rad           0.263725830   0.266888579   0.269539160   0.272117316\n",
       "tax          -0.010286456  -0.010418000  -0.010528583  -0.010635851\n",
       "ptratio      -0.933927773  -0.935038260  -0.936008402  -0.936920066\n",
       "black         0.009089735   0.009107537   0.009123506   0.009138192\n",
       "lstat        -0.522521473  -0.522525376  -0.522537970  -0.522541068\n",
       "                                                                  \n",
       "(Intercept)  3.532188e+01  35.41218963  35.499546137  35.573745711\n",
       "crim        -1.030082e-01  -0.10342081  -0.103808651  -0.104132869\n",
       "zn           4.350918e-02   0.04376785   0.043992065   0.044184458\n",
       "indus        3.012703e-04   0.00189287   0.003524133   0.004946237\n",
       "chas         2.701696e+00   2.70075820   2.699788652   2.699226636\n",
       "nox         -1.681424e+01 -16.88367428 -16.953707135 -17.015390848\n",
       "rm           3.836972e+00   3.83495875   3.833180780   3.831857527\n",
       "age          .              .            .             .          \n",
       "dis         -1.441368e+00  -1.44482611  -1.447744715  -1.450300595\n",
       "rad          2.745231e-01   0.27705039   0.279513680   0.281571774\n",
       "tax         -1.074078e-02  -0.01087205  -0.010998316  -0.011104901\n",
       "ptratio     -9.377945e-01  -0.93881746  -0.939945869  -0.940920095\n",
       "black        9.151675e-03   0.00916544   0.009178978   0.009190891\n",
       "lstat       -5.225658e-01  -0.52270020  -0.522817656  -0.522911887\n",
       "                                                                   \n",
       "(Intercept)  35.646972704  35.707318035  35.767560503  35.824935249\n",
       "crim         -0.104455334  -0.104719398  -0.104983546  -0.105238892\n",
       "zn            0.044370196   0.044527873   0.044681863   0.044825720\n",
       "indus         0.006304191   0.007458193   0.008579713   0.009625910\n",
       "chas          2.698467386   2.698073139   2.697463261   2.696800526\n",
       "nox         -17.075226989 -17.125645162 -17.174963268 -17.221436716\n",
       "rm            3.830427989   3.829379107   3.828210101   3.827051956\n",
       "age           .             .             .             .          \n",
       "dis          -1.452751780  -1.454866978  -1.456900793  -1.458793919\n",
       "rad           0.283610857   0.285276396   0.286950451   0.288555789\n",
       "tax          -0.011209046  -0.011295472  -0.011381204  -0.011462622\n",
       "ptratio      -0.941874453  -0.942664365  -0.943445664  -0.944193251\n",
       "black         0.009202124   0.009211899   0.009221159   0.009229812\n",
       "lstat        -0.523000031  -0.523075319  -0.523149200  -0.523214971\n",
       "                                      \n",
       "(Intercept)  35.869906555  35.91505402\n",
       "crim         -0.105437872  -0.10563564\n",
       "zn            0.044943263   0.04505959\n",
       "indus         0.010477671   0.01132070\n",
       "chas          2.696540388   2.69609610\n",
       "nox         -17.258979782 -17.29604866\n",
       "rm            3.826281633   3.82541641\n",
       "age           .             .         \n",
       "dis          -1.460386386  -1.46192454\n",
       "rad           0.289797548   0.29105088\n",
       "tax          -0.011526962  -0.01159130\n",
       "ptratio      -0.944783173  -0.94536634\n",
       "black         0.009237192   0.00924415\n",
       "lstat        -0.523268957  -0.52332406"
      ]
     },
     "execution_count": 4,
     "metadata": {},
     "output_type": "execute_result"
    }
   ],
   "source": [
    "coef(model2)"
   ]
  },
  {
   "cell_type": "markdown",
   "metadata": {},
   "source": [
    "The coefficients from this model with the optimal λ are also printed below. As we would expect, they are the same as those from using cv.glmnet()."
   ]
  },
  {
   "cell_type": "code",
   "execution_count": 5,
   "metadata": {
    "collapsed": false,
    "scrolled": true
   },
   "outputs": [
    {
     "data": {
      "text/plain": [
       "14 x 1 sparse Matrix of class \"dgCMatrix\"\n",
       "                        1\n",
       "(Intercept)  35.009928169\n",
       "crim         -0.101393480\n",
       "zn            0.042784125\n",
       "indus         .          \n",
       "chas          2.696136603\n",
       "nox         -16.634667961\n",
       "rm            3.847231871\n",
       "age           .          \n",
       "dis          -1.425687466\n",
       "rad           0.266888579\n",
       "tax          -0.010418000\n",
       "ptratio      -0.935038260\n",
       "black         0.009107537\n",
       "lstat        -0.522525376"
      ]
     },
     "execution_count": 5,
     "metadata": {},
     "output_type": "execute_result"
    }
   ],
   "source": [
    "coef(model2, s = model1$lambda.min)"
   ]
  },
  {
   "cell_type": "markdown",
   "metadata": {},
   "source": [
    "To make predictions, either of the two models can be used."
   ]
  },
  {
   "cell_type": "code",
   "execution_count": 6,
   "metadata": {
    "collapsed": false
   },
   "outputs": [
    {
     "name": "stdout",
     "output_type": "stream",
     "text": [
      "         1\n",
      "1 30.18412\n",
      "2 25.03488\n",
      "         1\n",
      "1 30.18412\n",
      "2 25.03488\n"
     ]
    }
   ],
   "source": [
    "x_new <- data.matrix(train_X[1:2, -response_column])\n",
    "predictions_train_lasso <- predict(model1, newx = x_new, s = \"lambda.min\")\n",
    "print(predictions_train_lasso)\n",
    "predictions_train_lasso2 <- predict(model2, newx = x_new, s = model1$lambda.min)\n",
    "print(predictions_train_lasso2)"
   ]
  },
  {
   "cell_type": "markdown",
   "metadata": {},
   "source": [
    "## 4 Web service\n",
    "### 4.1 Deploy a web service\n",
    "With the developed model, we can deploy a web service on Azure so that others can use it to make predictions. The \"AzureML\" package will be used for this purpose. You'll need to provide the work space ID and authorization token for an Azure machine learning workspace. More information about this can be found in the [Tutorial][tut link].\n",
    "\n",
    "[tut link]: ???"
   ]
  },
  {
   "cell_type": "code",
   "execution_count": 7,
   "metadata": {
    "collapsed": false
   },
   "outputs": [
    {
     "name": "stdout",
     "output_type": "stream",
     "text": [
      "     crim zn indus chas   nox    rm  age  dis rad tax ptratio black lstat\n",
      "1 0.00632 18  2.31    0 0.538 6.575 65.2 4.09   1 296    15.3 396.9  4.98\n"
     ]
    },
    {
     "data": {
      "text/html": [
       "<table>\n",
       "<thead><tr><th></th><th scope=col>1</th></tr></thead>\n",
       "<tbody>\n",
       "\t<tr><th scope=row>1</th><td>30.18412</td></tr>\n",
       "</tbody>\n",
       "</table>\n"
      ],
      "text/latex": [
       "\\begin{tabular}{r|l}\n",
       "  & 1\\\\\n",
       "\\hline\n",
       "\t1 & 30.18412\\\\\n",
       "\\end{tabular}\n"
      ],
      "text/markdown": [
       "30.1841182440647"
      ],
      "text/plain": [
       "         1\n",
       "1 30.18412"
      ]
     },
     "execution_count": 7,
     "metadata": {},
     "output_type": "execute_result"
    }
   ],
   "source": [
    "# load the library\n",
    "library(AzureML)\n",
    "\n",
    "# workspace information\n",
    "ws <- workspace(\n",
    "  id = \"b2bbeb56a1d04e1599d2510a06c59d87\",\n",
    "  auth = \"a3978d933cd84e64ab583a616366d160\"\n",
    ")\n",
    "\n",
    "# define predict function\n",
    "mypredict <- function(newdata)\n",
    "{\n",
    "  require(glmnet)\n",
    "  newdata <- data.matrix(newdata) # the prediction data need to be a matrix for glmnet\n",
    "  res <- predict(model2, newx = newdata, s = model1$lambda.min)\n",
    "  res\n",
    "}\n",
    "\n",
    "# test the prediction function\n",
    "newdata <- Boston[1, 1:13]\n",
    "print(newdata)\n",
    "mypredict(newdata)\n",
    "\n",
    "# deploy the service\n",
    "ep <- publishWebService(ws = ws, fun = mypredict, \n",
    "                        name = \"LASSOPrediction\", \n",
    "                        inputSchema = newdata, \n",
    "                        outputSchema = list(ans = \"numeric\"))"
   ]
  },
  {
   "cell_type": "markdown",
   "metadata": {},
   "source": [
    "### 4.2 Consume a web service\n",
    "The [Tutorial][tut link] describes three ways of consuming the web service and we'll use one of those approaches here.\n",
    "\n",
    "[tut link]: ???"
   ]
  },
  {
   "cell_type": "code",
   "execution_count": 8,
   "metadata": {
    "collapsed": false
   },
   "outputs": [],
   "source": [
    "# retrieve web service information\n",
    "service_id <- ep$WebServiceId\n",
    "ep_price_pred <- endpoints(ws, service_id)\n",
    "\n",
    "# print(service_id)\n",
    "# print(ep_price_pred)"
   ]
  },
  {
   "cell_type": "code",
   "execution_count": 9,
   "metadata": {
    "collapsed": false
   },
   "outputs": [
    {
     "name": "stderr",
     "output_type": "stream",
     "text": [
      "Request failed with status 401. Retrying request...\n"
     ]
    },
    {
     "data": {
      "text/html": [
       "<table>\n",
       "<thead><tr><th></th><th scope=col>ans</th></tr></thead>\n",
       "<tbody>\n",
       "\t<tr><th scope=row>1</th><td>30.18412</td></tr>\n",
       "</tbody>\n",
       "</table>\n"
      ],
      "text/latex": [
       "\\begin{tabular}{r|l}\n",
       "  & ans\\\\\n",
       "\\hline\n",
       "\t1 & 30.18412\\\\\n",
       "\\end{tabular}\n"
      ],
      "text/plain": [
       "       ans\n",
       "1 30.18412"
      ]
     },
     "execution_count": 9,
     "metadata": {},
     "output_type": "execute_result"
    }
   ],
   "source": [
    "# consume\n",
    "consume(ep_price_pred, newdata)"
   ]
  },
  {
   "cell_type": "markdown",
   "metadata": {},
   "source": [
    "## 5 Conclusion\n",
    "Using the Boston housing dataset, we demonstrated how to carry out LASSO regression analysis. We started the analysis by determining the optimal value of the tuning parameter λ using cross-validation. Then we examined the impact of λ on the coefficient estimates. A web service was deployed based on the selected model."
   ]
  },
  {
   "cell_type": "markdown",
   "metadata": {},
   "source": [
    "---  \n",
    "Created by a Microsoft Employee.  \n",
    "Copyright © Microsoft. All Rights Reserved."
   ]
  }
 ],
 "metadata": {
  "kernelspec": {
   "display_name": "R",
   "language": "R",
   "name": "ir"
  },
  "language_info": {
   "codemirror_mode": "r",
   "file_extension": ".r",
   "mimetype": "text/x-r-source",
   "name": "R",
   "pygments_lexer": "r",
   "version": "3.2.2"
  }
 },
 "nbformat": 4,
 "nbformat_minor": 0
}
