{
 "cells": [
  {
   "cell_type": "markdown",
   "metadata": {},
   "source": [
    "# Predicting breast cancer using data from AzureML\n",
    "\n",
    "This notebook demonstrates a simple machine learning process to predict breast cancer incidence. The data residdes in the Azure Machine Learning Studio, and this example download the data to the notebook and then fits a simple regression model. The `AzureML` package allows you to import datasets from the AzureML-Studio to your local R session, or indeed a notebook.\n",
    "\n",
    "\n",
    "## About the data\n",
    "The `Breast cancer data` is one of three cancer-related datasets provided by the Oncology Institute that appears frequently in machine learning literature. Combines diagnostic information with features from laboratory analysis of about 300 tissue samples.\n",
    "\n",
    "Usage: Classify the type of cancer, based on 9 attributes, some of which are linear and some are categorical.\n",
    "\n",
    "Related Research: Wohlberg, W.H., Street, W.N., & Mangasarian, O.L. (1995). UCI Machine Learning Repository http://archive.ics.uci.edu/ml. Irvine, CA: University of California, School of Information and Computer Science"
   ]
  },
  {
   "cell_type": "markdown",
   "metadata": {},
   "source": [
    "## Importing data from AzureML\n",
    "\n",
    "By default, the `AzureML` package is installed on the Jupyter server. The `AzureML` package allows you to import datasets from the AzureML-Studio to your local R session.\n",
    "\n",
    "You use the `workspace()` function to configure a connection to your AzureML Studio workspace.\n",
    "\n",
    "Note that the Jupyter workspace in AzureML already contains a file at `~/.azureml/setting.json` that contains your workspace credentials. This has the benefit that you won't reveal your credentials when sharing the notebook.\n",
    "\n",
    "Thus, when you use `workspace()` with a Jupyter notebook, you don't have to provide your credentials.\n",
    "\n",
    "Use the function `download.intermediate.dataset()` to download the data from the AzureML Studio to your Jupyter notebook."
   ]
  },
  {
   "cell_type": "code",
   "execution_count": 8,
   "metadata": {
    "collapsed": false
   },
   "outputs": [],
   "source": [
    "library(\"AzureML\")\n",
    "ws <- workspace()\n",
    "dat <- download.datasets(ws, \"Breast cancer data\")"
   ]
  },
  {
   "cell_type": "markdown",
   "metadata": {},
   "source": [
    "Once the data is downloaded to your Jupyter session, you can use any R function to inspect or manipulate the data.\n",
    "\n",
    "For example, inspect the structure of your dataset using `str()`:"
   ]
  },
  {
   "cell_type": "code",
   "execution_count": 9,
   "metadata": {
    "collapsed": false
   },
   "outputs": [
    {
     "name": "stdout",
     "output_type": "stream",
     "text": [
      "'data.frame':\t683 obs. of  10 variables:\n",
      " $ Class      : num  0 0 0 0 0 1 0 0 0 0 ...\n",
      " $ age        : num  5 5 3 6 4 8 1 2 2 4 ...\n",
      " $ menopause  : num  1 4 1 8 1 10 1 1 1 2 ...\n",
      " $ tumor-size : num  1 4 1 8 1 10 1 2 1 1 ...\n",
      " $ inv-nodes  : num  1 5 1 1 3 8 1 1 1 1 ...\n",
      " $ node-caps  : num  2 7 2 3 2 7 2 2 2 2 ...\n",
      " $ deg-malig  : num  1 10 2 4 1 10 10 1 1 1 ...\n",
      " $ breast     : num  3 3 3 3 3 9 3 3 1 2 ...\n",
      " $ breast-quad: num  1 2 1 7 1 7 1 1 1 1 ...\n",
      " $ irradiat   : num  1 1 1 1 1 1 1 1 5 1 ...\n"
     ]
    }
   ],
   "source": [
    "str(dat)"
   ]
  },
  {
   "cell_type": "markdown",
   "metadata": {},
   "source": [
    "The IRKernel displays data frames in a nice tabular format:"
   ]
  },
  {
   "cell_type": "code",
   "execution_count": 10,
   "metadata": {
    "collapsed": false
   },
   "outputs": [
    {
     "data": {
      "text/html": [
       "<table>\n",
       "<thead><tr><th></th><th scope=col>Class</th><th scope=col>age</th><th scope=col>menopause</th><th scope=col>tumor-size</th><th scope=col>inv-nodes</th><th scope=col>node-caps</th><th scope=col>deg-malig</th><th scope=col>breast</th><th scope=col>breast-quad</th><th scope=col>irradiat</th></tr></thead>\n",
       "<tbody>\n",
       "\t<tr><th scope=row>1</th><td>0</td><td>5</td><td>1</td><td>1</td><td>1</td><td>2</td><td>1</td><td>3</td><td>1</td><td>1</td></tr>\n",
       "\t<tr><th scope=row>2</th><td>0</td><td>5</td><td>4</td><td>4</td><td>5</td><td>7</td><td>10</td><td>3</td><td>2</td><td>1</td></tr>\n",
       "\t<tr><th scope=row>3</th><td>0</td><td>3</td><td>1</td><td>1</td><td>1</td><td>2</td><td>2</td><td>3</td><td>1</td><td>1</td></tr>\n",
       "\t<tr><th scope=row>4</th><td>0</td><td>6</td><td>8</td><td>8</td><td>1</td><td>3</td><td>4</td><td>3</td><td>7</td><td>1</td></tr>\n",
       "\t<tr><th scope=row>5</th><td>0</td><td>4</td><td>1</td><td>1</td><td>3</td><td>2</td><td>1</td><td>3</td><td>1</td><td>1</td></tr>\n",
       "\t<tr><th scope=row>6</th><td>1</td><td>8</td><td>10</td><td>10</td><td>8</td><td>7</td><td>10</td><td>9</td><td>7</td><td>1</td></tr>\n",
       "</tbody>\n",
       "</table>\n"
      ],
      "text/latex": [
       "\\begin{tabular}{r|llllllllll}\n",
       "  & Class & age & menopause & tumor-size & inv-nodes & node-caps & deg-malig & breast & breast-quad & irradiat\\\\\n",
       "\\hline\n",
       "\t1 & 0 & 5 & 1 & 1 & 1 & 2 & 1 & 3 & 1 & 1\\\\\n",
       "\t2 & 0 & 5 & 4 & 4 & 5 & 7 & 10 & 3 & 2 & 1\\\\\n",
       "\t3 & 0 & 3 & 1 & 1 & 1 & 2 & 2 & 3 & 1 & 1\\\\\n",
       "\t4 & 0 & 6 & 8 & 8 & 1 & 3 & 4 & 3 & 7 & 1\\\\\n",
       "\t5 & 0 & 4 & 1 & 1 & 3 & 2 & 1 & 3 & 1 & 1\\\\\n",
       "\t6 & 1 & 8 & 10 & 10 & 8 & 7 & 10 & 9 & 7 & 1\\\\\n",
       "\\end{tabular}\n"
      ],
      "text/plain": [
       "  Class age menopause tumor-size inv-nodes node-caps deg-malig breast\n",
       "1     0   5         1          1         1         2         1      3\n",
       "2     0   5         4          4         5         7        10      3\n",
       "3     0   3         1          1         1         2         2      3\n",
       "4     0   6         8          8         1         3         4      3\n",
       "5     0   4         1          1         3         2         1      3\n",
       "6     1   8        10         10         8         7        10      9\n",
       "  breast-quad irradiat\n",
       "1           1        1\n",
       "2           2        1\n",
       "3           1        1\n",
       "4           7        1\n",
       "5           1        1\n",
       "6           7        1"
      ]
     },
     "execution_count": 10,
     "metadata": {},
     "output_type": "execute_result"
    }
   ],
   "source": [
    "head(dat)"
   ]
  },
  {
   "cell_type": "markdown",
   "metadata": {},
   "source": [
    "## Plot  the correlation matrix\n",
    "\n",
    "Notebooks allows you to plot data, and the plot gets displayed directly in the output.\n",
    "\n",
    "Note you can install packages from MRAN (the Microsoft CRAN mirror). In this example, install the `corrgram` package to plot the correlation matrix."
   ]
  },
  {
   "cell_type": "code",
   "execution_count": 11,
   "metadata": {
    "collapsed": false
   },
   "outputs": [
    {
     "data": {
      "image/png": "[encoded data removed]"
     },
     "metadata": {},
     "output_type": "display_data"
    }
   ],
   "source": [
    "# Change plot size\n",
    "options(jupyter.plot_mimetypes = 'image/png') \n",
    "options(repr.plot.width = 6, repr.plot.height = 6)\n",
    "\n",
    "if(!require(\"corrgram\", quietly = TRUE)) install.packages(\"corrgram\")\n",
    "library(corrgram, quietly = TRUE)\n",
    "corrgram(dat, order = TRUE, \n",
    "         lower.panel = panel.ellipse,\n",
    "         upper.panel = panel.shade, \n",
    "         text.panel = panel.txt,\n",
    "         main = \"Breast cancer data in PC2/PC1 Order\",\n",
    "         cex.labels = 0.7)\n"
   ]
  },
  {
   "cell_type": "markdown",
   "metadata": {},
   "source": [
    "## Create a binary classifier model\n",
    "\n",
    "The column `Class` in the breast cancer data is an indicator whether a person had breast cancer or not. Logistic regression is an algorithm that allows you to fit a binary classifier to data. A binary classifier predicts data with two classes, for example TRUE or FALSE, or 1 or 0.\n",
    "\n",
    "Using R, You can fit a logistic regression model using the `glm()` function.\n",
    "\n",
    "But first, separate the data into a training and test sample."
   ]
  },
  {
   "cell_type": "code",
   "execution_count": 12,
   "metadata": {
    "collapsed": false
   },
   "outputs": [],
   "source": [
    "set.seed(1)\n",
    "idx <- sample.int(nrow(dat), nrow(dat) * 0.8) # create an 80% sample index\n",
    "train <- dat[idx, ]  # keep the 80% sample\n",
    "test  <- dat[-idx, ] # discard the 80% sample\n",
    "\n",
    "# fit the model\n",
    "model <- glm(Class ~ ., data = dat, family = binomial)"
   ]
  },
  {
   "cell_type": "markdown",
   "metadata": {},
   "source": [
    "Now inspect the model using `summary()`. "
   ]
  },
  {
   "cell_type": "code",
   "execution_count": 13,
   "metadata": {
    "collapsed": false
   },
   "outputs": [
    {
     "data": {
      "text/plain": [
       "\n",
       "Call:\n",
       "glm(formula = Class ~ ., family = binomial, data = dat)\n",
       "\n",
       "Deviance Residuals: \n",
       "    Min       1Q   Median       3Q      Max  \n",
       "-3.4841  -0.1153  -0.0619   0.0222   2.4698  \n",
       "\n",
       "Coefficients:\n",
       "               Estimate Std. Error z value Pr(>|z|)    \n",
       "(Intercept)   -10.10394    1.17488  -8.600  < 2e-16 ***\n",
       "age             0.53501    0.14202   3.767 0.000165 ***\n",
       "menopause      -0.00628    0.20908  -0.030 0.976039    \n",
       "`tumor-size`    0.32271    0.23060   1.399 0.161688    \n",
       "`inv-nodes`     0.33064    0.12345   2.678 0.007400 ** \n",
       "`node-caps`     0.09663    0.15659   0.617 0.537159    \n",
       "`deg-malig`     0.38303    0.09384   4.082 4.47e-05 ***\n",
       "breast          0.44719    0.17138   2.609 0.009073 ** \n",
       "`breast-quad`   0.21303    0.11287   1.887 0.059115 .  \n",
       "irradiat        0.53484    0.32877   1.627 0.103788    \n",
       "---\n",
       "Signif. codes:  0 '***' 0.001 '**' 0.01 '*' 0.05 '.' 0.1 ' ' 1\n",
       "\n",
       "(Dispersion parameter for binomial family taken to be 1)\n",
       "\n",
       "    Null deviance: 884.35  on 682  degrees of freedom\n",
       "Residual deviance: 102.89  on 673  degrees of freedom\n",
       "AIC: 122.89\n",
       "\n",
       "Number of Fisher Scoring iterations: 8\n"
      ]
     },
     "execution_count": 13,
     "metadata": {},
     "output_type": "execute_result"
    }
   ],
   "source": [
    "summary(model)"
   ]
  },
  {
   "cell_type": "markdown",
   "metadata": {},
   "source": [
    "## Evaluate model accuracy\n",
    "\n",
    "To evaluate the model accuracy, you can use the `ROCR` package to plot various ROC plots. ROC plots are widely used in machine learning to visualize model accuracy. The higher the area under the curve, the better the model. This is why this type of plot is sometimes also called AUC plots (Area Unde the Curve)."
   ]
  },
  {
   "cell_type": "code",
   "execution_count": 14,
   "metadata": {
    "collapsed": false
   },
   "outputs": [
    {
     "data": {
      "image/png": "[encoded data removed]"
     },
     "metadata": {},
     "output_type": "display_data"
    }
   ],
   "source": [
    "if(!require(ROCR, quietly = TRUE)) install.packages(\"ROCR\")\n",
    "library(ROCR, quietly = TRUE)\n",
    "\n",
    "# First, create predictions using the holdout (test) set\n",
    "predictions <- predict(model, test, type = \"response\")\n",
    "\n",
    "# Using ROCR's 3 commands to produce a simple ROC plot:\n",
    "\n",
    "pred <- prediction(predictions, test$Class)\n",
    "perf <- performance(pred, measure = \"tpr\", x.measure = \"fpr\") \n",
    "    \n",
    "    \n",
    "options(repr.plot.width = 5, repr.plot.height = 4)\n",
    "plot(perf, col = rainbow(10), main = \"Model performance\")\n",
    "\n"
   ]
  },
  {
   "cell_type": "markdown",
   "metadata": {
    "collapsed": true
   },
   "source": [
    "The model performs very well using the test data."
   ]
  }
 ],
 "metadata": {
  "kernelspec": {
   "display_name": "R",
   "language": "R",
   "name": "ir"
  },
  "language_info": {
   "codemirror_mode": "r",
   "file_extension": ".r",
   "mimetype": "text/x-r-source",
   "name": "R",
   "pygments_lexer": "r",
   "version": "3.2.2"
  }
 },
 "nbformat": 4,
 "nbformat_minor": 0
}
