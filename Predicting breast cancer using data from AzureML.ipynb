{
 "cells": [
  {
   "cell_type": "markdown",
   "metadata": {},
   "source": [
    "# Predicting breast cancer using data from AzureML\n",
    "\n",
    "This notebook demonstrates a simple machine learning process to predict breast cancer incidence. \n",
    "\n",
    "\n",
    "## About the data\n",
    "The `Breast cancer data` is one of three cancer-related datasets provided by the Oncology Institute that appears frequently in machine learning literature. Combines diagnostic information with features from laboratory analysis of about 300 tissue samples.\n",
    "\n",
    "Usage: Classify the type of cancer, based on 9 attributes, some of which are linear and some are categorical.\n",
    "\n",
    "Related Research: Wohlberg, W.H., Street, W.N., & Mangasarian, O.L. (1995). UCI Machine Learning Repository http://archive.ics.uci.edu/ml. Irvine, CA: University of California, School of Information and Computer Science"
   ]
  },
  {
   "cell_type": "markdown",
   "metadata": {},
   "source": [
    "## Import data from AzureML\n",
    "\n",
    "By default, the `AzureML` package is installed on the Jupyter server. The `AzureML` package allows you to import datasets from the AzureML-Studio to your local R session.\n",
    "\n",
    "You use the `workspace()` function to configure a connection to your AzureML Studio workspace.\n",
    "\n",
    "Note that the Jupyter workspace in AzureML already contains a file at `~/.azureml/setting.json` that contains your workspace credentials. This has the benefit that you won't reveal your credentials when sharing the notebook.\n",
    "\n",
    "Thus, when you use `workspace()` with a Jupyter notebook, you don't have to provide your credentials.\n",
    "\n",
    "Use the function `download.intermediate.dataset()` to download the data from the AzureML Studio to your Jupyter notebook."
   ]
  },
  {
   "cell_type": "code",
   "execution_count": null,
   "metadata": {
    "collapsed": false
   },
   "outputs": [],
   "source": [
    "library(\"AzureML\")\n",
    "ws <- workspace()\n",
    "dat <- download.datasets(ws, \"Breast cancer data\")"
   ]
  },
  {
   "cell_type": "markdown",
   "metadata": {},
   "source": [
    "Once the data is downloaded to your Jupyter session, you can use any R function to inspect or manipulate the data.\n",
    "\n",
    "For example, inspect the structure of your dataset using `str()`:"
   ]
  },
  {
   "cell_type": "code",
   "execution_count": null,
   "metadata": {
    "collapsed": false
   },
   "outputs": [],
   "source": [
    "str(dat)"
   ]
  },
  {
   "cell_type": "markdown",
   "metadata": {},
   "source": [
    "The IRKernel displays data frames in a nice tabular format:"
   ]
  },
  {
   "cell_type": "code",
   "execution_count": null,
   "metadata": {
    "collapsed": false
   },
   "outputs": [],
   "source": [
    "head(dat)"
   ]
  },
  {
   "cell_type": "markdown",
   "metadata": {},
   "source": [
    "## Plot  the correlation matrix\n",
    "\n",
    "Notebooks allows you to plot data, and the plot gets displayed directly in the output.\n",
    "\n",
    "Note you can install packages from CRAN. In this example, install the `corrgram` package to plot the correlation matrix."
   ]
  },
  {
   "cell_type": "code",
   "execution_count": null,
   "metadata": {
    "collapsed": false
   },
   "outputs": [],
   "source": [
    "# Change plot size\n",
    "options(jupyter.plot_mimetypes = 'image/png') \n",
    "options(repr.plot.width = 6, repr.plot.height = 6)\n",
    "\n",
    "if(!require(\"corrgram\", quietly = TRUE)) install.packages(\"corrgram\")\n",
    "library(corrgram, quietly = TRUE)\n",
    "corrgram(dat, order = TRUE, \n",
    "         lower.panel = panel.ellipse,\n",
    "         upper.panel = panel.shade, \n",
    "         text.panel = panel.txt,\n",
    "         main = \"Breast cancer data in PC2/PC1 Order\",\n",
    "         cex.labels = 0.7)\n"
   ]
  },
  {
   "cell_type": "markdown",
   "metadata": {},
   "source": [
    "## Create a binary classifier model\n",
    "\n",
    "The column `Class` in the breast cancer data is an indicator whether a person had breast cancer or not. You can fit a logistic regression model using the `glm()` function.\n",
    "\n",
    "But first, separate the data into a training and test sample."
   ]
  },
  {
   "cell_type": "code",
   "execution_count": null,
   "metadata": {
    "collapsed": true
   },
   "outputs": [],
   "source": [
    "set.seed(1)\n",
    "idx <- sample.int(nrow(dat), nrow(dat) * 0.8)\n",
    "train <- dat[idx, ]  # keep the 80% sample\n",
    "test  <- dat[-idx, ] # discard the 80% sample\n",
    "model <- glm(Class ~ ., data = dat, family = binomial)"
   ]
  },
  {
   "cell_type": "markdown",
   "metadata": {},
   "source": [
    "Now inspect the model using `summary()`. "
   ]
  },
  {
   "cell_type": "code",
   "execution_count": null,
   "metadata": {
    "collapsed": false
   },
   "outputs": [],
   "source": [
    "summary(model)"
   ]
  },
  {
   "cell_type": "markdown",
   "metadata": {},
   "source": [
    "## Evaluate model accuracy\n",
    "\n",
    "To evaluate the model accuracy, you can use the `ROCR` package."
   ]
  },
  {
   "cell_type": "code",
   "execution_count": null,
   "metadata": {
    "collapsed": false
   },
   "outputs": [],
   "source": [
    "if(!require(ROCR, quietly = TRUE)) install.packages(\"ROCR\")\n",
    "library(ROCR, quietly = TRUE)\n",
    "\n",
    "# First, create predictions using the holdout (test) set\n",
    "predictions <- predict(model, test, type = \"response\")\n",
    "\n",
    "# Using ROCR's 3 commands to produce a simple ROC plot:\n",
    "\n",
    "pred <- prediction(predictions, test$Class)\n",
    "perf <- performance(pred, measure = \"tpr\", x.measure = \"fpr\") \n",
    "    \n",
    "    \n",
    "options(repr.plot.width = 5, repr.plot.height = 4)\n",
    "plot(perf, col = rainbow(10), main = \"Model performance\")\n",
    "\n"
   ]
  },
  {
   "cell_type": "markdown",
   "metadata": {
    "collapsed": true
   },
   "source": [
    "The model performs very well using the test data."
   ]
  }
 ],
 "metadata": {
  "kernelspec": {
   "display_name": "R",
   "language": "R",
   "name": "ir"
  },
  "language_info": {
   "codemirror_mode": "r",
   "file_extension": ".r",
   "mimetype": "text/x-r-source",
   "name": "R",
   "pygments_lexer": "r",
   "version": "3.2.2"
  }
 },
 "nbformat": 4,
 "nbformat_minor": 0
}
