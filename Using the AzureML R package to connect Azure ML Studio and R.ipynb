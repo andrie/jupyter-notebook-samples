{
 "cells": [
  {
   "cell_type": "markdown",
   "metadata": {},
   "source": [
    "# Using the AzureML R package to connect Azure ML Studio and R\n",
    "\n",
    "This notebook demonstrates some of the capabilities of the `AzureML` package:\n",
    "  * Read, download, and delete data in Azure ML workspace\n",
    "  * Read intermediate data from Azure ML experiment\n",
    "  * Allow for a concise way of publishing and consuming web services\n",
    "\n",
    "The target audience should have a basic understanding of the [Azure Machine Learning studio][studio link]. Specifically, you should:\n",
    " * Know how to get the workspace ID and authorization token\n",
    "     - Note that this step is not necessary in Azure ML Jupyter notebooks, because the notebook service stores your credentials in the file system\n",
    " * Understand setting up web services on Azure\n",
    " \n",
    "If you are completely new to Azure ML, the [Tutorial for Data Scientists][tutorial link] can help you get started.\n",
    "All results as shown here are from my own Azure ML workspace.\n",
    "\n",
    "Note that you don't have to specify own workspace ID and authorization token to run the code.\n",
    "\n",
    "[AzureML link]: https://github.com/RevolutionAnalytics/AzureML\n",
    "[CRAN link]: https://cran.r-project.org/web/packages/AzureML/index.html\n",
    "[studio link]: https://studio.azureml.net/\n",
    "[tutorial link]: https://gallery.cortanaanalytics.com/Experiment/Tutorial-for-Data-Scientists-3"
   ]
  },
  {
   "cell_type": "markdown",
   "metadata": {},
   "source": [
    "## Load the package\n",
    "\n",
    "The package is already in the Jupyter service on Azure ML. Start by loading the package."
   ]
  },
  {
   "cell_type": "code",
   "execution_count": null,
   "metadata": {
    "collapsed": false,
    "scrolled": true
   },
   "outputs": [],
   "source": [
    "library(AzureML)"
   ]
  },
  {
   "cell_type": "markdown",
   "metadata": {},
   "source": [
    "## Work with Workspace\n",
    "\n",
    "The `AzureML` R package allows you to work with workspaces directly. Specifically, with this package users can read, download, and delete data in an Azure ML workspace.\n",
    "\n",
    "### Connect with AzureML workspace\n",
    "Start by loading the library and setting up connection with an AzureML workspace."
   ]
  },
  {
   "cell_type": "code",
   "execution_count": null,
   "metadata": {
    "collapsed": false,
    "scrolled": false
   },
   "outputs": [],
   "source": [
    "# Connect to the workspace\n",
    "ws <- workspace()"
   ]
  },
  {
   "cell_type": "markdown",
   "metadata": {},
   "source": [
    "### List datasets\n",
    "The *datasets* attribute of a workspace() variable contains information about all the datasets in the workspace, including the default datasets from Microsoft."
   ]
  },
  {
   "cell_type": "code",
   "execution_count": null,
   "metadata": {
    "collapsed": false,
    "scrolled": false
   },
   "outputs": [],
   "source": [
    "# list first several datasets in my workspace\n",
    "head(datasets(ws, filter = \"sample\")$Name)\n",
    "\n"
   ]
  },
  {
   "cell_type": "markdown",
   "metadata": {},
   "source": [
    "### Download a dataset\n",
    "To download a dataset we can use the download.datasets() function."
   ]
  },
  {
   "cell_type": "code",
   "execution_count": null,
   "metadata": {
    "collapsed": false,
    "scrolled": false
   },
   "outputs": [],
   "source": [
    "# download datasets\n",
    "BG <- download.datasets(ws, name = \"Bill Gates RGB Image\")\n",
    "head(BG)"
   ]
  },
  {
   "cell_type": "markdown",
   "metadata": {},
   "source": [
    "### Upload a dataset\n",
    "We'll use the air quality dataset that comes with base R to show how a dataset can be uploaded. Note that if dataset with the same name already exists in the workspace an error will be reported."
   ]
  },
  {
   "cell_type": "code",
   "execution_count": null,
   "metadata": {
    "collapsed": false,
    "scrolled": true
   },
   "outputs": [],
   "source": [
    "airquality[1:10,]"
   ]
  },
  {
   "cell_type": "code",
   "execution_count": null,
   "metadata": {
    "collapsed": false,
    "scrolled": false
   },
   "outputs": [],
   "source": [
    "# uploading R data frame to Azure ML workspace\n",
    "mydata <- airquality[1:10,]\n",
    "# information about the uploaded dataset in the workspace will be returned\n",
    "upload.dataset(mydata, ws, name = \"my air quality\") "
   ]
  },
  {
   "cell_type": "code",
   "execution_count": null,
   "metadata": {
    "collapsed": false
   },
   "outputs": [],
   "source": [
    "# download to check its content\n",
    "head(download.datasets(ws, name = \"my air quality\"))"
   ]
  },
  {
   "cell_type": "markdown",
   "metadata": {},
   "source": [
    "### Delete a dataset\n",
    "If the delete action is successful the returned status value for Deleted should be *TRUE*."
   ]
  },
  {
   "cell_type": "code",
   "execution_count": null,
   "metadata": {
    "collapsed": false,
    "scrolled": true
   },
   "outputs": [],
   "source": [
    "# delete dataset\n",
    "delete.datasets(ws, name = \"my air quality\")"
   ]
  },
  {
   "cell_type": "markdown",
   "metadata": {},
   "source": [
    "The \"Airport Codes Dataset\" is one of the dafault datasets in Azure ML. This example shows that the default datasets cannot be deleted."
   ]
  },
  {
   "cell_type": "code",
   "execution_count": null,
   "metadata": {
    "collapsed": false
   },
   "outputs": [],
   "source": [
    "# delete Azure sample dataset: not allowed\n",
    "# Uncomment the following line to see the failure report\n",
    "\n",
    "# delete.datasets(ws, name = \"Airport Codes Dataset\")"
   ]
  },
  {
   "cell_type": "markdown",
   "metadata": {},
   "source": [
    "## Work with experiments\n",
    "The `AzureML` package allows you to get a summary of the existing experiments and to download the intermediate datasets."
   ]
  },
  {
   "cell_type": "markdown",
   "metadata": {},
   "source": [
    "### List existing experiments\n",
    "Information for all experiments in the workspace, including the default ones from Microsoft, can be returned. "
   ]
  },
  {
   "cell_type": "code",
   "execution_count": null,
   "metadata": {
    "collapsed": false,
    "scrolled": false
   },
   "outputs": [],
   "source": [
    "# experiments\n",
    "exps <- experiments(ws)\n",
    "head(\n",
    "    with(exps, data.frame(Description, ExperimentId, Creator, stringsAsFactors = FALSE))\n",
    "    )\n",
    "#head(cbind(Description = exps$Description, ExperimentId = exps$ExperimentId, Creator = exps$Creator))"
   ]
  },
  {
   "cell_type": "markdown",
   "metadata": {},
   "source": [
    "You can also filter by using the experiments() function with the \"filter\" argument."
   ]
  },
  {
   "cell_type": "code",
   "execution_count": null,
   "metadata": {
    "collapsed": false,
    "scrolled": false
   },
   "outputs": [],
   "source": [
    "# check sample experiments\n",
    "e <- experiments(ws, filter = \"samples\")\n",
    "head(e$Creator)\n",
    "head(cbind(e$Description, e$ExperimentId))"
   ]
  },
  {
   "cell_type": "markdown",
   "metadata": {},
   "source": [
    "### 2Download intermediate data\n",
    "We can also download intermediate data from an experiment. To do this we need information for four variables: experiment, node_id, port_name, and data_type_id. [Figure 1][figure1 link] shows up when I right click the output port of the \"Convert to CSV\" module in my experiment and [Figure 2][figure2 link] shows the information about the dataset after I click \"Generate Data Access Code...\" in Figure 1. From the several tests I did, it seems that the note_id remains unchanged after making changes to the experiment, as long as the note was never deleted.\n",
    "\n",
    "[![Figure 1][figure1 link]][figure1 link] Figure 1\n",
    "\n",
    "[![Figure 2][figure2 link]][figure2 link] Figure 2\n",
    "\n",
    "[figure1 link]: https://cloud.githubusercontent.com/assets/9322661/11898668/91a91c00-a567-11e5-9f78-dcd386344187.PNG\n",
    "[figure2 link]: https://cloud.githubusercontent.com/assets/9322661/11898669/91acd70a-a567-11e5-8e7c-1ed3c31572be.png"
   ]
  },
  {
   "cell_type": "code",
   "execution_count": null,
   "metadata": {
    "collapsed": false,
    "scrolled": true
   },
   "outputs": [],
   "source": [
    "# download intermediate data\n",
    "\n",
    "# Replace the code below with the snipped provided by the AzureML Studio\n",
    "#exp_data <- download.intermediate.dataset(ws = ws, \n",
    "#            experiment  = \"xxxxxxxxxxxxxxxxxxxxxxxxxxxxxxxxxxxxxxxxxxxxxxxxxxxxxxxxxxxxxxx\",\n",
    "#            node_id = \"xxxxxxxx-xxx-xxx-xxxx-xxxxxxxxxxxx-xxx\",\n",
    "#            port_name = \"Results dataset\",\n",
    "#            data_type_id = \"GenericCSV\")\n",
    "\n",
    "#head(exp_data)"
   ]
  },
  {
   "cell_type": "markdown",
   "metadata": {},
   "source": [
    "## 3 A concise way of consuming web service\n",
    "The `AzureML`package also allows a very concise way of consuming the web service. All you need is to provide the web service ID and the workspace information. Then use `consume()` to consume the service from any R terminal (as long as you have internet access).\n",
    "\n",
    "For illustration purpose, we'll fit a linear model and deploy a web service based on the model.\n",
    "\n",
    "If you encounter the error `Requires external zip utility. Please install zip, ensure it's on your path and try again` while running this on Windows, you can install [RTools][rtools link] and add the install directory to the system path. For example, if it's installed in `C:\\Tools`, you should add `C:\\Tools\\bin` to your system path and then restart R.\n",
    " \n",
    "[rtools link]: https://cran.r-project.org/bin/windows/Rtools/"
   ]
  },
  {
   "cell_type": "code",
   "execution_count": null,
   "metadata": {
    "collapsed": false
   },
   "outputs": [],
   "source": [
    "# load the library\n",
    "library(MASS)\n",
    "\n",
    "# fit a model using all variables except medv as predictors\n",
    "lm1 <- lm(medv ~ ., data = Boston)\n",
    "\n",
    "# define predict function\n",
    "mypredict <- function(newdata){\n",
    "  predict(lm1, newdata)\n",
    "}\n",
    "\n",
    "# test the prediction function\n",
    "newdata <- Boston[1, 1:13]\n",
    "\n",
    "# Publish the service\n",
    "ep <- publishWebService(ws = ws, fun = mypredict, name = \"HousePricePrediction\", inputSchema = newdata)\n",
    "str(ep)\n"
   ]
  },
  {
   "cell_type": "markdown",
   "metadata": {},
   "source": [
    "After deploying a web service, we can retrieve the web service ID and save it for future use."
   ]
  },
  {
   "cell_type": "code",
   "execution_count": null,
   "metadata": {
    "collapsed": false
   },
   "outputs": [],
   "source": [
    "# retrieve web service ID\n",
    "service_id <- ep$WebServiceId\n",
    "print(service_id)"
   ]
  },
  {
   "cell_type": "markdown",
   "metadata": {},
   "source": [
    "After saving the workspace access information and the above service_id, we can run the following code from any R terminal to consume the web service."
   ]
  },
  {
   "cell_type": "code",
   "execution_count": null,
   "metadata": {
    "collapsed": false
   },
   "outputs": [],
   "source": [
    "# consume\n",
    "consume(ep, newdata)"
   ]
  },
  {
   "cell_type": "markdown",
   "metadata": {},
   "source": [
    "## Additional resources\n",
    "The authors of the package have a writeup <a href=\"https://htmlpreview.github.io/?https://github.com/RevolutionAnalytics/AzureML/blob/master/vignettes/getting_started.html\">Getting Started with the AzureML Package</a> that covers a wider range of examples."
   ]
  },
  {
   "cell_type": "markdown",
   "metadata": {},
   "source": [
    "---  \n",
    "Created by a Microsoft Employee.  \n",
    "Copyright © Microsoft. All Rights Reserved."
   ]
  }
 ],
 "metadata": {
  "kernelspec": {
   "display_name": "R",
   "language": "R",
   "name": "ir"
  },
  "language_info": {
   "codemirror_mode": "r",
   "file_extension": ".r",
   "mimetype": "text/x-r-source",
   "name": "R",
   "pygments_lexer": "r",
   "version": "3.2.2"
  }
 },
 "nbformat": 4,
 "nbformat_minor": 0
}
