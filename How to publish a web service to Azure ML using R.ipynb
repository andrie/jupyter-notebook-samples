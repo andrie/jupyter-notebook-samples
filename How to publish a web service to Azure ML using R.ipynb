{
 "cells": [
  {
   "cell_type": "markdown",
   "metadata": {},
   "source": [
    "# How to publish a web service to Azure ML using R\n",
    "\n",
    "## Introduction\n",
    "The purpose of this notebook is to demonstrate how to use Jupyter notebooks on the Azure Machine Learning (ML) platform to develope a model in R and publish a web service based on the model.\n",
    "\n",
    "### Why Azure ML R notebooks\n",
    "The answer to this question depends on how much you know about Azure ML. For data scientists who're new to Azure ML and accustomed to doing all analytical work using R on local computers,  Azure Machine Learning makes it possible to write R notebooks on the cloud. So anyone with internet access can work with R from a web browser. \n",
    "\n",
    "If you use R and understand the basics of Azure ML, Azure ML's R notebooks make it possible to develope your models in R and then operationalize them easily. \n",
    "\n",
    "For data scientists who're comfortable with both R and Azure ML Experiments, R notebooks can be used together with Azure ML Experiments in different ways:\n",
    "  * To explore data from Azure Machine Learning Experiment. For example, you can use R notebook to visualize your data in different ways.\n",
    "  * To fit models and use techniques that are not available in Azure ML Experiments yet. For example, R offers more options in terms of variable selection techniques and a wider variety of GBM models. You can also used it for time series analysis.\n",
    "  * To test code before they are used in the \"Execute R Script\" module of Azure ML Experiments.\n",
    "\n",
    "### Target audience\n",
    "The target audience of this notebook are R users who have a basic understanding of Azure ML. If you are new to Azure ML, Section 2 of the [Data Scientists' Guide][guide link] provides enough information for you to follow this tutorial. \n",
    "\n",
    "[guide link]: https://gallery.cortanaanalytics.com/Experiment/Tutorial-for-Data-Scientists-3\n",
    "\n",
    "\n",
    "## Data\n",
    "In this example, we'll use the housing data from the R package `MASS`.  The Boston data contains 506 rows and 14 columns. Available information includes median home price, average number of rooms per dwelling, crime rate by town, etc. Find more information about this dataset by running `?Boston` in an R terminal."
   ]
  },
  {
   "cell_type": "code",
   "execution_count": null,
   "metadata": {
    "collapsed": false
   },
   "outputs": [],
   "source": [
    "?Boston"
   ]
  },
  {
   "cell_type": "markdown",
   "metadata": {},
   "source": [
    "## A linear regression model\n",
    "For illustration purposes, use `medv` - median home price - as the response variable and the remaining variables as predictors.\n",
    "\n",
    "[uci link]: https://archive.ics.uci.edu/ml/datasets/Housing"
   ]
  },
  {
   "cell_type": "code",
   "execution_count": null,
   "metadata": {
    "collapsed": false
   },
   "outputs": [],
   "source": [
    "# load the library to use the Boston dataset\n",
    "library(MASS)\n",
    "\n",
    "# fit a model using all variables except medv as predictors\n",
    "lm1 <- lm(medv ~ ., data = Boston)\n",
    "\n",
    "# check model performance\n",
    "summary(lm1)"
   ]
  },
  {
   "cell_type": "code",
   "execution_count": null,
   "metadata": {
    "collapsed": false,
    "scrolled": false
   },
   "outputs": [],
   "source": [
    "pred <- predict(lm1)\n",
    "error <- pred-Boston$medv\n",
    "mae <- mean(abs(error))\n",
    "rmse <- sqrt(mean((error)^2))\n",
    "rae <- mean(abs(error))/mean(abs(Boston$medv-mean(Boston$medv)))\n",
    "rse <- mean((error)^2)/mean((Boston$medv-mean(Boston$medv))^2)\n",
    "\n",
    "cat(\"Mean Absolute Error:\", round(mae, 6), \"\\n\")\n",
    "cat(\"Mean Absolute Error:\", round(mae, 6), \"\\n\")\n",
    "cat(\"Root Mean Squared Error:\", round(rmse, 6), \"\\n\")\n",
    "cat(\"Relative Absolute Error:\", round(rae, 6), \"\\n\")\n",
    "cat(\"Relative Squared Error:\", round(rse, 6), \"\\n\")"
   ]
  },
  {
   "cell_type": "markdown",
   "metadata": {},
   "source": [
    "## Web service\n",
    "### Deploy a web service\n",
    "With the developed model, you can deploy a web service so that others can use it to make predictions. The `AzureML` R package will be used for this purpose. You'll need to provide the **workspace ID** and **authorization token** for an Azure ML workspace. The two screenshots below show where you can find them in your workspace. Either primary or secondary authorization token can be used. \n",
    "\n",
    "#### Finding your workspace ID\n",
    "\n",
    "<img src=\"https://cloud.githubusercontent.com/assets/9322661/11348789/952a5db4-91f6-11e5-9710-8805451194dd.PNG\" width = \"800\", alt = \"Where to find workspace ID\">\n",
    "\n",
    "#### Finding your authorization token\n",
    "\n",
    "<img src=\"https://cloud.githubusercontent.com/assets/9322661/11348692/09746e40-91f6-11e5-9dfa-6ac897e3c426.PNG\" width = \"800\">\n",
    "\n"
   ]
  },
  {
   "cell_type": "markdown",
   "metadata": {},
   "source": [
    "The code below sets up a web service. "
   ]
  },
  {
   "cell_type": "code",
   "execution_count": null,
   "metadata": {
    "collapsed": false
   },
   "outputs": [],
   "source": [
    "# load the library\n",
    "library(AzureML)\n",
    "\n",
    "# retrieve workspace information\n",
    "ws <- workspace()\n",
    "\n",
    "# define predict function\n",
    "mypredict <- function(newdata){\n",
    "  predict(lm1, newdata)\n",
    "}\n",
    "\n",
    "# a sample with predictor information\n",
    "newdata <- Boston[1:5, ]\n",
    "\n",
    "# test the prediction function\n",
    "data.frame(actual = newdata$medv, prediction = mypredict(newdata))"
   ]
  },
  {
   "cell_type": "code",
   "execution_count": null,
   "metadata": {
    "collapsed": false,
    "scrolled": true
   },
   "outputs": [],
   "source": [
    "# publish the service\n",
    "ep <- publishWebService(ws = ws, \n",
    "                        fun = mypredict, \n",
    "                        name = \"HousePricePrediction\", \n",
    "                        inputSchema = newdata)\n",
    "str(ep)"
   ]
  },
  {
   "cell_type": "markdown",
   "metadata": {},
   "source": [
    "### Consume a web service\n",
    "After setting up a web service, you can use R scripts to consume it in three ways: one is in-session and two are out-of-session.\n",
    "\n",
    "#### In-session consumption\n",
    "If you are consuming the web service in the same session that the web service was set up, you can refer to the endpoint directly."
   ]
  },
  {
   "cell_type": "code",
   "execution_count": null,
   "metadata": {
    "collapsed": false
   },
   "outputs": [],
   "source": [
    "pred <- consume(ep, newdata)$ans\n",
    "data.frame(actual = newdata$medv, prediction = pred)\n",
    "\n",
    "# Note that this operation may take several seconds to complete.\n",
    "# You may see several retry attempts, before the service returns with a value"
   ]
  },
  {
   "cell_type": "markdown",
   "metadata": {},
   "source": [
    "#### Out-of-session consumption\n",
    "If you consume the web service in a new session, you can do it in two ways. In the first approach, you need to save the workspace information - workspace id and  authorization token - and web service ID. Such information can then be used by the consume\\(\\) function as shown below."
   ]
  },
  {
   "cell_type": "code",
   "execution_count": null,
   "metadata": {
    "collapsed": false,
    "scrolled": true
   },
   "outputs": [],
   "source": [
    "# Create a temporary file to store the endpoint data\n",
    "tf <- tempfile(fileext = \".rds\")\n",
    "saveRDS(ep, file = tf)\n",
    "\n",
    "# Read the endpoint data from file\n",
    "endpoint <- readRDS(tf)\n",
    "\n",
    "# consume\n",
    "pred <- consume(endpoint, newdata)$ans\n",
    "data.frame(actual = newdata$medv, prediction = mypredict(newdata))"
   ]
  },
  {
   "cell_type": "markdown",
   "metadata": {},
   "source": [
    "Alternatively, you can save the API information and call it directly. "
   ]
  },
  {
   "cell_type": "markdown",
   "metadata": {},
   "source": [
    "### Update a web service\n",
    "After making improvements to a model, you can update the existing web service. For this purpose you can use the updateWebService\\(\\) function by specifying the web service ID. "
   ]
  },
  {
   "cell_type": "code",
   "execution_count": null,
   "metadata": {
    "collapsed": true
   },
   "outputs": [],
   "source": [
    "# define test function\n",
    "mypredictnew <- function(newdata){\n",
    "  predict(lm1, newdata) + 100\n",
    "}\n",
    "\n",
    "# update service with the new function\n",
    "ep_update <- updateWebService(\n",
    "  ws = ws,\n",
    "  fun = mypredictnew, \n",
    "  name = \"newpredict\", # this does not matter since serviceId is provided\n",
    "  inputSchema = newdata, \n",
    "  serviceId = service_id   \n",
    ")"
   ]
  },
  {
   "cell_type": "markdown",
   "metadata": {},
   "source": [
    "## Conclusion\n",
    "Through this example, you've learned how to fit a model, deploy the model on Azure, and consume the service, all using Azure ML's Jupyter notebook.\n",
    "\n",
    "The `AzureML`R package also allows you to read data from Azure ML workspace or experiments, making it possible for users to have a seamless experience between Azure ML experiments and notebooks. Details can be found in the package documentation."
   ]
  },
  {
   "cell_type": "markdown",
   "metadata": {},
   "source": [
    "---  \n",
    "Created by a Microsoft Employee.  \n",
    "Copyright (C) Microsoft. All Rights Reserved."
   ]
  }
 ],
 "metadata": {
  "kernelspec": {
   "display_name": "R",
   "language": "R",
   "name": "ir"
  },
  "language_info": {
   "codemirror_mode": "r",
   "file_extension": ".r",
   "mimetype": "text/x-r-source",
   "name": "R",
   "pygments_lexer": "r",
   "version": "3.2.2"
  }
 },
 "nbformat": 4,
 "nbformat_minor": 0
}
