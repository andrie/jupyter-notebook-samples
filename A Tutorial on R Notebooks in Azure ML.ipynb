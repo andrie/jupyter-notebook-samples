{
 "cells": [
  {
   "cell_type": "markdown",
   "metadata": {},
   "source": [
    "# A Tutorial on R Notebooks in Azure ML\n",
    "\n",
    "## 1 Introduction\n",
    "The purpose of this notebook is to demonstrate how to use Jupyter notebooks on the Azure Machine Learning (ML) platform to develope a model in R and publish a web service based on the model.\n",
    "\n",
    "### 1.1 Why Azure ML R notebooks\n",
    "The answer to this question depends on how much you know about Azure ML. For data scientists who're new to Azure ML and accustomed to doing all analytical work using R on local computers,  Azure Machine Learning makes it possible to write R notebooks on the cloud. So anyone with internet access can work with R from a web browser. \n",
    "\n",
    "If you use R and understand the basics of Azure ML, Azure ML's R notebooks make it possible to develope your models in R and then operationalize them easily. \n",
    "\n",
    "For data scientists who're comfortable with both R and Azure ML Experiments, R notebooks can be used together with Azure ML Experiments in different ways:\n",
    "  * To explore data from Azure Machine Learning Experiment. For example, you can use R notebook to visualize your data in different ways.\n",
    "  * To fit models and use techniques that are not available in Azure ML Experiments yet. For example, R offers more options in terms of variable selection techniques and a wider variety of GBM models. You can also used it for time series analysis.\n",
    "  * To test code before they are used in the \"Execute R Script\" module of Azure ML Experiments.\n",
    "\n",
    "### 1.2 Target audience\n",
    "The target audience of this notebook are R users who have a basic understanding of Azure ML. If you are new to Azure ML, Section 2 of the [Data Scientists' Guide][guide link] provides enough information for you to follow this tutorial. \n",
    "\n",
    "[guide link]: https://gallery.cortanaanalytics.com/Experiment/Tutorial-for-Data-Scientists-3\n",
    "\n",
    "\n",
    "## 2 Data\n",
    "In this example, we'll use the housing data from the R package \"MASS.\" There are 506 rows and 14 columns in the dataset. Available information includes median home price, average number of rooms per dwelling, crime rate by town, etc. More information about this dataset can be found at [UCI][uci link] or by running \"help(Boston)\" in an R terminal.\n",
    "\n",
    "## 3 A linear regression model\n",
    "For illustration purposes, we'll use \"medv\" - median home price - as the response variable and the remaining variables as predictors.\n",
    "\n",
    "[uci link]: https://archive.ics.uci.edu/ml/datasets/Housing"
   ]
  },
  {
   "cell_type": "code",
   "execution_count": 1,
   "metadata": {
    "collapsed": false,
    "scrolled": false
   },
   "outputs": [
    {
     "data": {
      "text/plain": [
       "\n",
       "Call:\n",
       "lm(formula = medv ~ ., data = Boston)\n",
       "\n",
       "Residuals:\n",
       "    Min      1Q  Median      3Q     Max \n",
       "-15.595  -2.730  -0.518   1.777  26.199 \n",
       "\n",
       "Coefficients:\n",
       "              Estimate Std. Error t value Pr(>|t|)    \n",
       "(Intercept)  3.646e+01  5.103e+00   7.144 3.28e-12 ***\n",
       "crim        -1.080e-01  3.286e-02  -3.287 0.001087 ** \n",
       "zn           4.642e-02  1.373e-02   3.382 0.000778 ***\n",
       "indus        2.056e-02  6.150e-02   0.334 0.738288    \n",
       "chas         2.687e+00  8.616e-01   3.118 0.001925 ** \n",
       "nox         -1.777e+01  3.820e+00  -4.651 4.25e-06 ***\n",
       "rm           3.810e+00  4.179e-01   9.116  < 2e-16 ***\n",
       "age          6.922e-04  1.321e-02   0.052 0.958229    \n",
       "dis         -1.476e+00  1.995e-01  -7.398 6.01e-13 ***\n",
       "rad          3.060e-01  6.635e-02   4.613 5.07e-06 ***\n",
       "tax         -1.233e-02  3.760e-03  -3.280 0.001112 ** \n",
       "ptratio     -9.527e-01  1.308e-01  -7.283 1.31e-12 ***\n",
       "black        9.312e-03  2.686e-03   3.467 0.000573 ***\n",
       "lstat       -5.248e-01  5.072e-02 -10.347  < 2e-16 ***\n",
       "---\n",
       "Signif. codes:  0 '***' 0.001 '**' 0.01 '*' 0.05 '.' 0.1 ' ' 1\n",
       "\n",
       "Residual standard error: 4.745 on 492 degrees of freedom\n",
       "Multiple R-squared:  0.7406,\tAdjusted R-squared:  0.7338 \n",
       "F-statistic: 108.1 on 13 and 492 DF,  p-value: < 2.2e-16\n"
      ]
     },
     "execution_count": 1,
     "metadata": {},
     "output_type": "execute_result"
    },
    {
     "name": "stdout",
     "output_type": "stream",
     "text": [
      "[1] \"Mean Absolute Error: 3.270863\"\n",
      "[1] \"Root Mean Squared Error: 4.679191\"\n",
      "[1] \"Relative Absolute Error: 0.492066\"\n",
      "[1] \"Relative Squared Error: 0.259357\"\n"
     ]
    }
   ],
   "source": [
    "# load the library to use the Boston dataset\n",
    "library(MASS)\n",
    "\n",
    "# fit a model using all variables except medv as predictors\n",
    "lm1 <- lm(medv~., data = Boston)\n",
    "\n",
    "# check model performance\n",
    "summary(lm1)\n",
    "\n",
    "pred <- predict(lm1)\n",
    "mae <- mean(abs(pred-Boston$medv))\n",
    "rmse <- sqrt(mean((pred-Boston$medv)^2))\n",
    "rae <- mean(abs(pred-Boston$medv))/mean(abs(Boston$medv-mean(Boston$medv)))\n",
    "rse <- mean((pred-Boston$medv)^2)/mean((Boston$medv-mean(Boston$medv))^2)\n",
    "\n",
    "print(paste(\"Mean Absolute Error: \", as.character(round(mae,digit=6)), sep=\"\"))\n",
    "print(paste(\"Root Mean Squared Error: \", as.character(round(rmse,digit=6)), sep=\"\"))\n",
    "print(paste(\"Relative Absolute Error: \", as.character(round(rae,digit=6)), sep=\"\"))\n",
    "print(paste(\"Relative Squared Error: \", as.character(round(rse,digit=6)), sep=\"\"))"
   ]
  },
  {
   "cell_type": "markdown",
   "metadata": {},
   "source": [
    "## 4 Web service\n",
    "### 4.1 Deploy a web service\n",
    "With the developed model, we can deploy a web service so that others can use it to make predictions. The \"AzureML\" package will be used for this purpose. You'll need to provide the work space ID and authorization token for an Azure machine learning workspace. The two screenshots below show where you can find them in your workspace. Either primary or secondary authorization token can be used. \n",
    "\n",
    "[![Figure 1][pic 1]][pic 1] Where to find workspace ID\n",
    "\n",
    "[![Figure 2][pic 2]][pic 2] Where to find authorization token\n",
    "\n",
    "[pic 1]: https://cloud.githubusercontent.com/assets/9322661/11348789/952a5db4-91f6-11e5-9710-8805451194dd.PNG\n",
    "[pic 2]: https://cloud.githubusercontent.com/assets/9322661/11348692/09746e40-91f6-11e5-9dfa-6ac897e3c426.PNG"
   ]
  },
  {
   "cell_type": "markdown",
   "metadata": {},
   "source": [
    "The code below sets up a web service. "
   ]
  },
  {
   "cell_type": "code",
   "execution_count": 2,
   "metadata": {
    "collapsed": false,
    "scrolled": true
   },
   "outputs": [
    {
     "name": "stderr",
     "output_type": "stream",
     "text": [
      "Warning message:\n",
      ": package 'AzureML' was built under R version 3.2.3"
     ]
    },
    {
     "name": "stdout",
     "output_type": "stream",
     "text": [
      "       1 \n",
      "30.00384 \n"
     ]
    }
   ],
   "source": [
    "# load the library\n",
    "library(AzureML)\n",
    "\n",
    "# retrieve workspace information\n",
    "ws <- workspace()\n",
    "# define predict function\n",
    "mypredict <- function(newdata)\n",
    "{\n",
    "  res <- predict(lm1, newdata)\n",
    "  res\n",
    "}\n",
    "\n",
    "# a sample with predictor information\n",
    "newdata <- Boston[1, 1:13]\n",
    "\n",
    "# test the prediction function\n",
    "print(mypredict(newdata))\n",
    "\n",
    "# publish the service\n",
    "ep <- publishWebService(ws = ws, fun = mypredict, name = \"HousePricePrediction\", inputSchema = newdata)"
   ]
  },
  {
   "cell_type": "markdown",
   "metadata": {},
   "source": [
    "### 4.2 Consume a web service\n",
    "After setting up a web service, you can use R scripts to consume it in three ways: one is in-session and two are out-of-session.\n",
    "\n",
    "#### 4.2.1 In-session consumption\n",
    "If you are consuming the web service in the same session that the web service was set up, you can refer to the endpoint directly."
   ]
  },
  {
   "cell_type": "code",
   "execution_count": 3,
   "metadata": {
    "collapsed": false
   },
   "outputs": [
    {
     "name": "stderr",
     "output_type": "stream",
     "text": [
      "Request failed with status 401. Waiting 7.7 seconds before retry\n",
      "........Request failed with status 401. Waiting 12.8 seconds before retry\n",
      "............."
     ]
    },
    {
     "data": {
      "text/html": [
       "<table>\n",
       "<thead><tr><th></th><th scope=col>ans</th></tr></thead>\n",
       "<tbody>\n",
       "\t<tr><th scope=row>1</th><td>30.00384</td></tr>\n",
       "</tbody>\n",
       "</table>\n"
      ],
      "text/latex": [
       "\\begin{tabular}{r|l}\n",
       "  & ans\\\\\n",
       "\\hline\n",
       "\t1 & 30.00384\\\\\n",
       "\\end{tabular}\n"
      ],
      "text/plain": [
       "       ans\n",
       "1 30.00384"
      ]
     },
     "execution_count": 3,
     "metadata": {},
     "output_type": "execute_result"
    }
   ],
   "source": [
    "pred <- consume(ep, newdata)\n",
    "pred"
   ]
  },
  {
   "cell_type": "markdown",
   "metadata": {},
   "source": [
    "#### 4.2.2 Out-of-session consumption\n",
    "If you consume the web service in a new session, you can do it in two ways. In the first approach, you need to save the workspace information - workspace id and  authorization token - and web service ID. Such information can then be used by the consume\\(\\) function as shown below."
   ]
  },
  {
   "cell_type": "code",
   "execution_count": 4,
   "metadata": {
    "collapsed": false,
    "scrolled": true
   },
   "outputs": [
    {
     "data": {
      "text/html": [
       "<table>\n",
       "<thead><tr><th></th><th scope=col>ans</th></tr></thead>\n",
       "<tbody>\n",
       "\t<tr><th scope=row>1</th><td>30.00384</td></tr>\n",
       "</tbody>\n",
       "</table>\n"
      ],
      "text/latex": [
       "\\begin{tabular}{r|l}\n",
       "  & ans\\\\\n",
       "\\hline\n",
       "\t1 & 30.00384\\\\\n",
       "\\end{tabular}\n"
      ],
      "text/plain": [
       "       ans\n",
       "1 30.00384"
      ]
     },
     "execution_count": 4,
     "metadata": {},
     "output_type": "execute_result"
    }
   ],
   "source": [
    "# save workspace ID and authorization token\n",
    "ws_id <- ws$id\n",
    "ws_auth <- ws$.auth\n",
    "# save web service ID\n",
    "service_id <- ep$WebServiceId\n",
    "# define workspace, this is necessary if you are running outside of the service deployment session\n",
    "ws <- workspace(\n",
    "   id = ws_id,\n",
    "   auth = ws_auth\n",
    ")\n",
    "# defind endpoint based on workspace and service ID information\n",
    "ep_price_pred <- endpoints(ws, service_id)\n",
    "# consume\n",
    "consume(ep_price_pred, newdata)"
   ]
  },
  {
   "cell_type": "markdown",
   "metadata": {},
   "source": [
    "Alternatively, you can save the API information and call it directly. "
   ]
  },
  {
   "cell_type": "code",
   "execution_count": 5,
   "metadata": {
    "collapsed": false
   },
   "outputs": [],
   "source": [
    "# save the API info\n",
    "url <- ep$ApiLocation\n",
    "api_key <- ep$PrimaryKey\n",
    "help_url <- ep$HelpLocation\n",
    "\n",
    "# clean up the url string\n",
    "url_split <- strsplit(url, \"&\")\n",
    "url_s <- paste(url_split[[1]][1],url_split[[1]][2], sep = \"&\")"
   ]
  },
  {
   "cell_type": "markdown",
   "metadata": {},
   "source": [
    "The code below access the API with the saved information."
   ]
  },
  {
   "cell_type": "code",
   "execution_count": 6,
   "metadata": {
    "collapsed": false,
    "scrolled": false
   },
   "outputs": [
    {
     "name": "stderr",
     "output_type": "stream",
     "text": [
      "Loading required package: bitops\n"
     ]
    },
    {
     "data": {
      "text/html": [
       "<strong>OK:</strong> 0"
      ],
      "text/latex": [
       "\\textbf{OK:} 0"
      ],
      "text/markdown": [
       "**OK:** 0"
      ],
      "text/plain": [
       "OK \n",
       " 0 "
      ]
     },
     "execution_count": 6,
     "metadata": {},
     "output_type": "execute_result"
    },
    {
     "name": "stdout",
     "output_type": "stream",
     "text": [
      "[1] \"Result:\"\n",
      "$Results\n",
      "$Results$output1\n",
      "$Results$output1$type\n",
      "[1] \"table\"\n",
      "\n",
      "$Results$output1$value\n",
      "$Results$output1$value$ColumnNames\n",
      "[1] \"ans\"\n",
      "\n",
      "$Results$output1$value$ColumnTypes\n",
      "[1] \"Double\"\n",
      "\n",
      "$Results$output1$value$Values\n",
      "[1] \"30.0038433770169\" \"25.0255623790532\"\n",
      "\n",
      "\n",
      "\n",
      "$Results$output2\n",
      "$Results$output2$type\n",
      "[1] \"table\"\n",
      "\n",
      "$Results$output2$value\n",
      "$Results$output2$value$ColumnNames\n",
      "[1] \"R Output JSON\"\n",
      "\n",
      "$Results$output2$value$ColumnTypes\n",
      "[1] \"String\"\n",
      "\n",
      "$Results$output2$value$Values\n",
      "[1] \"{\\\"Standard Output\\\":\\\"RWorker pushed \\\\\\\"port1\\\\\\\" to R workspace.\\\\r\\\\n\\\",\\\"Standard Error\\\":\\\"R reported no errors.\\\",\\\"visualizationType\\\":\\\"rOutput\\\",\\\"Graphics Device\\\":[\\\"iVBORw0KGgoAAAANSUhEUgAAAeAAAAHgCAMAAABKCk6nAAAABlBMVEVkBgD///+5/CcxAAAAAnRSTlMA/1uRIrUAAARTSURBVHic7dEBCQAwDMCwzb/pqTiHkigodJa0+R3AWwbHGRxncJzBcQbHGRxncJzBcQbHGRxncJzBcQbHGRxncJzBcQbHGRxncJzBcQbHGRxncJzBcQbHGRxncJzBcQbHGRxncJzBcQbHGRxncJzBcQbHGRxncJzBcQbHGRxncJzBcQbHGRxncJzBcQbHGRxncJzBcQbHGRxncJzBcQbHGRxncJzBcQbHGRxncJzBcQbHGRxncJzBcQbHGRxncJzBcQbHGRxncJzBcQbHGRxncJzBcQbHGRxncJzBcQbHGRxncJzBcQbHGRxncJzBcQbHGRxncJzBcQbHGRxncJzBcQbHGRxncJzBcQbHGRxncJzBcQbHGRxncJzBcQbHGRxncJzBcQbHGRxncJzBcQbHGRxncJzBcQbHGRxncJzBcQbHGRxncJzBcQbHGRxncJzBcQbHGRxncJzBcQbHGRxncJzBcQbHGRxncJzBcQbHGRxncJzBcQbHGRxncJzBcQbHGRxncJzBcQbHGRxncJzBcQbHGRxncJzBcQbHGRxncJzBcQbHGRxncJzBcQbHGRxncJzBcQbHGRxncJzBcQbHGRxncJzBcQbHGRxncJzBcQbHGRxncJzBcQbHGRxncJzBcQbHGRxncJzBcQbHGRxncJzBcQbHGRxncJzBcQbHGRxncJzBcQbHGRxncJzBcQbHGRxncJzBcQbHGRxncJzBcQbHGRxncJzBcQbHGRxncJzBcQbHGRxncJzBcQbHGRxncJzBcQbHGRxncJzBcQbHGRxncJzBcQbHGRxncJzBcQbHGRxncJzBcQbHGRxncJzBcQbHGRxncJzBcQbHGRxncJzBcQbHGRxncJzBcQbHGRxncJzBcQbHGRxncJzBcQbHGRxncJzBcQbHGRxncJzBcQbHGRxncJzBcQbHGRxncJzBcQbHGRxncJzBcQbHGRxncJzBcQbHGRxncJzBcQbHGRxncJzBcQbHGRxncJzBcQbHGRxncJzBcQbHGRxncJzBcQbHGRxncJzBcQbHGRxncJzBcQbHGRxncJzBcQbHGRxncJzBcQbHGRxncJzBcQbHGRxncJzBcQbHGRxncJzBcQbHGRxncJzBcQbHGRxncJzBcQbHGRxncJzBcQbHGRxncJzBcQbHGRxncJzBcQbHGRxncJzBcQbHGRxncJzBcQbHGRxncJzBcQbHGRxncJzBcQbHGRxncJzBcQbHGRxncJzBcQbHGRxncJzBcQbHGRxncJzBcQbHGRxncJzBcQbHGRxncJzBcQbHGRxncJzBcQbHGRxncJzBcQbHGRxncJzBcQbHGRxncJzBcQbHGRxncJzBcQbHGRxncJzBcQbHGRxncJzBcQbHGRxncJzBcQbHGRxncJzBcQbHGRxncJzBcQbHGRxncJzBcQbHGRxncJzBcQbHGRxncJzBcQbHGRxncJzBcQbHGRxncJzBcQbHGRx3L2yELnclpkkAAAAASUVORK5CYII=\\\"]}\"\n",
      "\n",
      "\n",
      "\n",
      "\n"
     ]
    }
   ],
   "source": [
    "library(\"RCurl\")\n",
    "library(\"rjson\")\n",
    "\n",
    "# Accept SSL certificates issued by public Certificate Authorities\n",
    "options(RCurlOptions = list(cainfo = system.file(\"CurlSSL\", \"cacert.pem\", package = \"RCurl\")))\n",
    "\n",
    "h = basicTextGatherer()\n",
    "hdr = basicHeaderGatherer()\n",
    "\n",
    "\n",
    "req = list(\n",
    "\n",
    "        Inputs = list(\n",
    "\n",
    " \n",
    "            \"input1\" = list(\n",
    "                \"ColumnNames\" = list(\"crim\", \"zn\", \"indus\", \"chas\", \"nox\", \"rm\", \"age\", \n",
    "                                     \"dis\", \"rad\", \"tax\", \"ptratio\", \"black\", \"lstat\"),\n",
    "                \"Values\" = list( list( \"0.00632\", \"18\", \"2.31\", \"0\", \"0.538\", \"6.575\", \"65.2\", \n",
    "                                      \"4.0900\", \"1\", \"296\", \"15.3\", \"396.9\", \"4.98\" ),  \n",
    "                                list( \"0.02731\", \"0\", \"7.07\", \"0\", \"0.469\", \"6.421\", \"78.9\", \n",
    "                                     \"4.9671\", \"2\", \"242\", \"17.8\", \"396.9\", \"9.14\" )  )\n",
    "            )),\n",
    "        GlobalParameters = setNames(fromJSON('{}'), character(0))\n",
    ")\n",
    "\n",
    "body = enc2utf8(toJSON(req))\n",
    "api_key = api_key # Replace this with the API key for the web service\n",
    "authz_hdr = paste('Bearer', api_key, sep=' ')\n",
    "\n",
    "h$reset()\n",
    "curlPerform(url = url_s,\n",
    "            httpheader=c('Content-Type' = \"application/json\", 'Authorization' = authz_hdr),\n",
    "            postfields=body,\n",
    "            writefunction = h$update,\n",
    "            headerfunction = hdr$update,\n",
    "            verbose = TRUE\n",
    "            )\n",
    "\n",
    "headers = hdr$value()\n",
    "httpStatus = headers[\"status\"]\n",
    "if (httpStatus >= 400)\n",
    "{\n",
    "    print(paste(\"The request failed with status code:\", httpStatus, sep=\" \"))\n",
    "\n",
    "    # Print the headers - they include the requert ID and the timestamp, which are useful for debugging the failure\n",
    "    print(headers)\n",
    "}\n",
    "\n",
    "print(\"Result:\")\n",
    "result = h$value()\n",
    "print(fromJSON(result))"
   ]
  },
  {
   "cell_type": "markdown",
   "metadata": {},
   "source": [
    "The above service consumption code is based on those at the help_url, which contains, among others, sample code written in C#, Python, and R for consuming the web service. To check out the code for yourself, copy the help_url value to a new browser and click on \"Request Response.\" Scroll down the newly opened page till you see the section \"Sample Code\" as in [Figure 3][pic 3]. Click on the R tab and you'll see the sample code. Two changes were made in the above code:\n",
    "  1) fill in the url and api\\_key with the values returned for the current web service, and \n",
    "  2) enter the values for the first two records. \n",
    "\n",
    "[![Figure 3][pic 3]][pic 3] Figure 3\n",
    "\n",
    "[pic 3]: https://cloud.githubusercontent.com/assets/9322661/11215051/560aa424-8d12-11e5-844a-f1911f988192.PNG"
   ]
  },
  {
   "cell_type": "markdown",
   "metadata": {},
   "source": [
    "### 4.3 Update a web service\n",
    "After making improvements to a model, you can update the existing web service. For this purpose you can use the updateWebService\\(\\) function by specifying the web service ID. "
   ]
  },
  {
   "cell_type": "code",
   "execution_count": 7,
   "metadata": {
    "collapsed": true
   },
   "outputs": [],
   "source": [
    "# define test function\n",
    "mypredictnew <- function(newdata)\n",
    "{\n",
    "  res <- predict(lm1, newdata) + 100\n",
    "  res\n",
    "}\n",
    "\n",
    "# update service with the new function\n",
    "ep_update <- updateWebService(\n",
    "  ws = ws,\n",
    "  fun = mypredictnew, \n",
    "  name = \"newpredict\", # this does not matter since serviceId is provided\n",
    "  inputSchema = newdata, \n",
    "  serviceId = service_id   \n",
    ")"
   ]
  },
  {
   "cell_type": "markdown",
   "metadata": {},
   "source": [
    "## 5 Conclusion\n",
    "Through this example, you've learned how to fit a model, deploy the model on Azure, and consume the service, all using Azure ML's Jupyter notebook.\n",
    "\n",
    "The R package AzureML also allows you to read data from Azure ML workspace or experiments, making it possible for users to have a seamless experience between Azure ML experiments and notebooks. Details can be found in the package's documentation.\n",
    "\n",
    "---  \n",
    "Created by a Microsoft Employee.  \n",
    "Copyright (C) Microsoft. All Rights Reserved."
   ]
  }
 ],
 "metadata": {
  "kernelspec": {
   "display_name": "R",
   "language": "R",
   "name": "ir"
  },
  "language_info": {
   "codemirror_mode": "r",
   "file_extension": ".r",
   "mimetype": "text/x-r-source",
   "name": "R",
   "pygments_lexer": "r",
   "version": "3.2.2"
  }
 },
 "nbformat": 4,
 "nbformat_minor": 0
}
