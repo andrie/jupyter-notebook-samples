{
 "cells": [
  {
   "cell_type": "markdown",
   "metadata": {},
   "source": [
    "# Changing R plot options in Jupyter\n",
    "\n",
    "To use R with Jupyter, under the hood the service runs the IRKernel. This kernel communicates between R and the Jupyter service.\n",
    "\n",
    "IRKernel allows you to specify different options for plotting. For example, you can change:\n",
    "\n",
    "* whether to display images as SVG or PNG\n",
    "* the plot size"
   ]
  },
  {
   "cell_type": "markdown",
   "metadata": {},
   "source": [
    "## Changing the plot mimetype\n",
    "\n",
    "The mimetype specifies how the plot returns from R to your browser. For example, the format can be SVG (Scalable vector graphics) or PNG (a bitmap image).\n",
    "\n",
    "Not all browsers handle SVG display very well. For example, some versions of Internet Explorer render SVG very slowly, or not at all.\n",
    "\n",
    "Thus it's a good idea to set the mimetype to \"image/png\" if you plan to use Internet Explorer."
   ]
  },
  {
   "cell_type": "markdown",
   "metadata": {},
   "source": [
    "### Using \"image/png\""
   ]
  },
  {
   "cell_type": "code",
   "execution_count": null,
   "metadata": {
    "collapsed": false
   },
   "outputs": [],
   "source": [
    "# Create a plot with some normally distributed data\n",
    "library(\"ggplot2\")\n",
    "set.seed(42)\n",
    "n <- 1000\n",
    "p <- ggplot(data.frame(x = rnorm(n), y = rnorm(n)), aes(x=x, y=y)) + \n",
    "  geom_point(alpha = 0.25, size = 1, colour = \"blue\") +\n",
    "  geom_density2d(colour = \"red\")"
   ]
  },
  {
   "cell_type": "markdown",
   "metadata": {},
   "source": [
    "Now change the plot type to `image/png`"
   ]
  },
  {
   "cell_type": "code",
   "execution_count": null,
   "metadata": {
    "collapsed": false
   },
   "outputs": [],
   "source": [
    "# Change mimetype to PNG\n",
    "options(jupyter.plot_mimetypes = \"image/png\") \n",
    "\n",
    "p + ggtitle(sprintf(\"Mime type = '%s'\", getOption(\"jupyter.plot_mimetypes\")))"
   ]
  },
  {
   "cell_type": "markdown",
   "metadata": {},
   "source": [
    "### Using image/svg+xml\n",
    "\n",
    "Some browswers are very good at handling SVG plots. If you are running this notebook in a browser like Firefox or Chrome, then you can safely remove the comment in the next block of code to view the image using SVG.\n",
    "\n",
    "If you are using Internet Explorer, your browser session might hang up. If you are using the Edge browser in Windows 10, then the plot should display, but it could take some time to render.\n",
    "\n",
    "Proceed with caution!"
   ]
  },
  {
   "cell_type": "code",
   "execution_count": null,
   "metadata": {
    "collapsed": false
   },
   "outputs": [],
   "source": [
    "# Change mimetype to PNG\n",
    "\n",
    "### Uncomment the next line if you are using a browser with good support for SVG graphics\n",
    "\n",
    "# options(jupyter.plot_mimetypes = \"image/svg+xml\") \n",
    "\n",
    "p + ggtitle(sprintf(\"Mime type = '%s'\", getOption(\"jupyter.plot_mimetypes\")))"
   ]
  },
  {
   "cell_type": "markdown",
   "metadata": {},
   "source": [
    "## Changing the plot size\n",
    "\n",
    "You can change the plot size by setting the option `repr.plot.width` and `repr.plot.height`.\n",
    "\n",
    "The `repr` package is part of the IRKernel (the machinery that connects Jupyter and R), and specifically handles representations of objects, including plots.\n",
    "\n",
    "Try setting the plot width to 4, for a plot that fills only about half the available screen width:"
   ]
  },
  {
   "cell_type": "code",
   "execution_count": null,
   "metadata": {
    "collapsed": false
   },
   "outputs": [],
   "source": [
    "options(repr.plot.width = 4, repr.plot.height = 3)\n",
    "p + ggtitle(sprintf(\n",
    "    \"Plot width = %s, plot height = %s\", \n",
    "    getOption(\"repr.plot.width\"),\n",
    "    getOption(\"repr.plot.height\")\n",
    "))"
   ]
  },
  {
   "cell_type": "markdown",
   "metadata": {},
   "source": [
    "Next, set the plot width to 8, i.e. double the previous width."
   ]
  },
  {
   "cell_type": "code",
   "execution_count": null,
   "metadata": {
    "collapsed": false
   },
   "outputs": [],
   "source": [
    "options(repr.plot.width = 8, repr.plot.height = 3)\n",
    "p + ggtitle(sprintf(\n",
    "    \"Plot width = %s, plot height = %s\", \n",
    "    getOption(\"repr.plot.width\"),\n",
    "    getOption(\"repr.plot.height\")\n",
    "))"
   ]
  },
  {
   "cell_type": "code",
   "execution_count": null,
   "metadata": {
    "collapsed": false
   },
   "outputs": [],
   "source": [
    "options(repr.plot.width = 6, repr.plot.height = 6)\n",
    "p + ggtitle(sprintf(\n",
    "    \"Plot width = %s, plot height = %s\", \n",
    "    getOption(\"repr.plot.width\"),\n",
    "    getOption(\"repr.plot.height\")\n",
    "))"
   ]
  },
  {
   "cell_type": "markdown",
   "metadata": {},
   "source": [
    "## Jupyter only respects the last value of repr options in each cell\n",
    "\n",
    "Note that you can only change the plot options once in each cell. The following example creates two identical plots, and attempts to set the width and height for each.\n",
    "\n",
    "However, this **does not work**, as you can see from the output, where the two plots are clearly the same size."
   ]
  },
  {
   "cell_type": "code",
   "execution_count": null,
   "metadata": {
    "collapsed": false,
    "scrolled": true
   },
   "outputs": [],
   "source": [
    "options(repr.plot.width = 8, repr.plot.height = 3)\n",
    "p + ggtitle(sprintf(\n",
    "    \"Plot width = %s, plot height = %s\", \n",
    "    getOption(\"repr.plot.width\"),\n",
    "    getOption(\"repr.plot.height\")\n",
    "))\n",
    "\n",
    "\n",
    "options(repr.plot.width = 6, repr.plot.height = 6)\n",
    "p + ggtitle(sprintf(\n",
    "    \"Plot width = %s, plot height = %s\", \n",
    "    getOption(\"repr.plot.width\"),\n",
    "    getOption(\"repr.plot.height\")\n",
    "))"
   ]
  },
  {
   "cell_type": "markdown",
   "metadata": {},
   "source": [
    "As you can see, you can only change the plot size once per cell. To create plots of different size, put each plot in a different Jupyter cell."
   ]
  }
 ],
 "metadata": {
  "kernelspec": {
   "display_name": "R",
   "language": "R",
   "name": "ir"
  },
  "language_info": {
   "codemirror_mode": "r",
   "file_extension": ".r",
   "mimetype": "text/x-r-source",
   "name": "R",
   "pygments_lexer": "r",
   "version": "3.2.2"
  }
 },
 "nbformat": 4,
 "nbformat_minor": 0
}
