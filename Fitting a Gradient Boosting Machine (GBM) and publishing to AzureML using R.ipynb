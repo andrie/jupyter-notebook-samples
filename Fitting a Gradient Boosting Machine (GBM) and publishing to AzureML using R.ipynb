{
 "cells": [
  {
   "cell_type": "markdown",
   "metadata": {},
   "source": [
    "# Fitting a Gradient Boosting Machine (GBM) and publishing to AzureML using R\n",
    "\n",
    "## Introduction\n",
    "In this notebook you fit a Gradient Boosting Machine (GBM) model using R, and then publish the model as a web service on the Azure Machine Learning platform.\n",
    "\n",
    "### Target audience\n",
    "You should have some experience with R and know a little about Azure ML web services\n",
    "\n",
    "### Why GBM in R notebooks\n",
    "GBM is well-known among data scientists and as a [Kaggle Profile][kaggle link] explains, it has several major advantages compared with traditional statistical models like linear regression:\n",
    "* it automatically approximates non-linear transformations and interactions\n",
    "* it treats missing values without having to fill in values or remove observations\n",
    "* monotonic transformation of features won't influence the model's performance\n",
    "\n",
    "[kaggle link]: http://blog.kaggle.com/2015/06/22/profiling-top-kagglers-owen-zhang-currently-1-in-the-world/\n",
    "\n",
    "For users who are used to fitting GBM models in Azure ML Experiments, a major advantage of using Azure ML notebooks is that there are more modeling options. For example, when the response variable is continunous you can use the \"Boosted Decision Tree Regression\" module for Experiments to fit a GBM model. This module, however, does not allow users to specify the types of loss functions (for statisticians, this means that you can't specify the distribution for the response variable). On the other hand, with the `gbm` package in R, you can choose from a wide variety of loss functions. \n",
    "\n",
    "## Data\n",
    "In this example, you use the housing data from the R package `MASS`. There are 506 rows and 14 columns in the dataset. Available information includes median home price, average number of rooms per dwelling, crime rate by town, etc. Find more information about this dataset typing `help(Boston)` or `?Boston` in an R terminal, or at this [UCI page][UCI link].\n",
    "\n",
    "[uci link]: https://archive.ics.uci.edu/ml/datasets/Housing\n"
   ]
  },
  {
   "cell_type": "code",
   "execution_count": null,
   "metadata": {
    "collapsed": false
   },
   "outputs": [],
   "source": [
    "?Boston"
   ]
  },
  {
   "cell_type": "markdown",
   "metadata": {},
   "source": [
    "## GBM model\n",
    "### Estimate hyperparameters\n",
    "In a GBM model, there are several hyperparameters and we need to estimate them first. One way to estimate these parameters is to use cross validation on a parameter-grid. In our example, we'll optimize the following parameters over a grid: number of estimators, maximum tree depth, minimum number of samples on a split, and learning rate. To do this we start by providing several values for each of them and create a set of combinations, each combination consisting of one value for each parameter. Then for each combination we use cross validation to estimate the performance, using root mean squared error as performance metric. The \"caret\" package will be used in this process.\n",
    "\n"
   ]
  },
  {
   "cell_type": "code",
   "execution_count": null,
   "metadata": {
    "collapsed": false
   },
   "outputs": [],
   "source": [
    "# load the libraries\n",
    "library(MASS) # to use the Boston dataset\n",
    "library(gbm)"
   ]
  },
  {
   "cell_type": "code",
   "execution_count": null,
   "metadata": {
    "collapsed": false
   },
   "outputs": [],
   "source": []
  },
  {
   "cell_type": "code",
   "execution_count": null,
   "metadata": {
    "collapsed": false
   },
   "outputs": [],
   "source": [
    "model1 <- gbm(medv ~ ., data = Boston, \n",
    "            distribution = \"gaussian\",\n",
    "            n.trees = 5000,\n",
    "            interaction.depth = 2, \n",
    "            n.minobsinnode = 1, \n",
    "            shrinkage = 0.001)\n"
   ]
  },
  {
   "cell_type": "code",
   "execution_count": null,
   "metadata": {
    "collapsed": false
   },
   "outputs": [],
   "source": [
    "# summarize the model\n",
    "summary(model1)"
   ]
  },
  {
   "cell_type": "code",
   "execution_count": null,
   "metadata": {
    "collapsed": false,
    "scrolled": false
   },
   "outputs": [],
   "source": [
    "# plot cv results\n",
    "plot(model1)"
   ]
  },
  {
   "cell_type": "markdown",
   "metadata": {},
   "source": [
    "### Fit Model with Estimated Parameters\n",
    "With the selected parameter values from above, we can fit a GBM model."
   ]
  },
  {
   "cell_type": "code",
   "execution_count": null,
   "metadata": {
    "collapsed": false
   },
   "outputs": [],
   "source": [
    "# fit the model\n",
    "\n",
    "model2 <- gbm(medv ~ ., data = Boston, \n",
    "            distribution = \"gaussian\",\n",
    "            n.trees = 10000,\n",
    "            interaction.depth = 4, \n",
    "            n.minobsinnode = 1, \n",
    "            shrinkage = 0.01)\n",
    "\n",
    "summary(model2)\n",
    "\n"
   ]
  },
  {
   "cell_type": "markdown",
   "metadata": {},
   "source": [
    "For the fitted model,we can look closely at how the number of trees affect loss function on training and validation data to select the best value."
   ]
  },
  {
   "cell_type": "markdown",
   "metadata": {},
   "source": [
    "## Web service\n",
    "### Deploy a web service\n",
    "With the developed model, we can deploy a web service so that others can use it to make predictions. The \"AzureML\" package will be used for this purpose. "
   ]
  },
  {
   "cell_type": "code",
   "execution_count": null,
   "metadata": {
    "collapsed": false
   },
   "outputs": [],
   "source": [
    "# load the library\n",
    "library(AzureML)\n",
    "\n",
    "# workspace information\n",
    "ws <- workspace()\n",
    "\n",
    "# define predict function\n",
    "predict_gbm <- function(newdata){\n",
    "  require(gbm)\n",
    "  predict(model2, newdata, n.trees = 1000)\n",
    "}\n",
    "\n",
    "# test the prediction function\n",
    "newdata <- Boston[1:10, ]\n",
    "pred <- predict_gbm(newdata)\n",
    "\n",
    "data.frame(actual = newdata$medv, prediction = pred)"
   ]
  },
  {
   "cell_type": "code",
   "execution_count": null,
   "metadata": {
    "collapsed": false
   },
   "outputs": [],
   "source": [
    "# Publish the service\n",
    "ep <- publishWebService(ws = ws, fun = predict_gbm, \n",
    "                        name = \"HousePricePredictionGBM\", \n",
    "                        inputSchema = newdata)\n",
    "str(ep)"
   ]
  },
  {
   "cell_type": "markdown",
   "metadata": {},
   "source": [
    "### Consume a web service\n",
    "\n",
    "With information about the workspace and and service ID, we can consume the web service with the following code."
   ]
  },
  {
   "cell_type": "code",
   "execution_count": null,
   "metadata": {
    "collapsed": false
   },
   "outputs": [],
   "source": [
    "pred <- consume(ep, newdata)$ans\n",
    "data.frame(actual = newdata$medv, prediction = pred)"
   ]
  },
  {
   "cell_type": "markdown",
   "metadata": {},
   "source": [
    "## Conclusion\n",
    "Using the `Boston` housing dataset, we started the analysis by estimating the parameters in the GBM model. Then we fitted the model and examined variable importance. A web service was also deployed based on the selected model.\n",
    "\n",
    "In addition to the Gaussian distribution which uses squared error loss function, the `gbm` package allows for several other distributions: laplace which uses absolute loss, t-distribution which uses t-distribution loss, etc. \n",
    "\n",
    "The `caret` package makes it possible to easily tune the hyperparameters on a grid. "
   ]
  },
  {
   "cell_type": "markdown",
   "metadata": {},
   "source": [
    "---  \n",
    "Created by a Microsoft Employee.  \n",
    "Copyright (C) Microsoft. All Rights Reserved."
   ]
  }
 ],
 "metadata": {
  "kernelspec": {
   "display_name": "R",
   "language": "R",
   "name": "ir"
  },
  "language_info": {
   "codemirror_mode": "r",
   "file_extension": ".r",
   "mimetype": "text/x-r-source",
   "name": "R",
   "pygments_lexer": "r",
   "version": "3.2.2"
  }
 },
 "nbformat": 4,
 "nbformat_minor": 0
}
