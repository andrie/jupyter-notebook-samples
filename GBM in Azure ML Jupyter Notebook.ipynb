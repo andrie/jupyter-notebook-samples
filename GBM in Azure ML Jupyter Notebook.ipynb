{
 "cells": [
  {
   "cell_type": "markdown",
   "metadata": {},
   "source": [
    "# GBM in Azure ML Jupyter Notebook\n",
    "\n",
    "## 1 Introduction\n",
    "In this notebook we'll demonstrate how to fit a GBM model using R. The fitted model will be deployed as a web service on the Azure Machine Learning platform.\n",
    "\n",
    "### 1.1 Target audience\n",
    "The target audience are those who have some experience with R (e.g., fitting a linear model) and understand deploying web services to Azure. \n",
    "\n",
    "### 1.2 Why GBM in R notebooks\n",
    "GBM is well-known among data scientists and as a [Kaggle Profile][kaggle link] explains, it has several major advantages compared with traditional statistical models like linear regression:\n",
    "    1. it automatically approximates non-linear transformations and interactions\n",
    "    2. it treats missing values without having to fill in values or remove observations\n",
    "    3. monotonic transformation of features won't influence the model's performance\n",
    "\n",
    "For users who are used to fitting GBM models in Azure ML Experiments, a major advantage of using Azure ML notebooks is that there are more modeling options. For example, when the response variable is continunous you can use the \"Boosted Decision Tree Regression\" module for Experiments to fit a GBM model. This module, however, does not allow users to specify the types of loss functions (for statisticians, this means that you can't specify the distribution for the response variable). On the other hand, with the \"gbm\" package in R, you can choose from a wide variety of loss functions. \n",
    "\n",
    "## 2 Data\n",
    "In this example, we'll use the housing data from the R package \"MASS.\" There are 506 rows and 14 columns in the dataset. Available information includes median home price, average number of rooms per dwelling, crime rate by town, etc. More information about this dataset can be found at [UCI][uci link] or by typing \"help(Boston)\" in an R terminal.\n",
    "\n",
    "## 3 GBM model\n",
    "### 3.1 Estimate hyperparameters\n",
    "In a GBM model, there are several hyperparameters and we need to estimate them first. One way to estimate these parameters is to use cross validation on a parameter-grid. In our example, we'll optimize the following parameters over a grid: number of estimators, maximum tree depth, minimum number of samples on a split, and learning rate. To do this we start by providing several values for each of them and create a set of combinations, each combination consisting of one value for each parameter. Then for each combination we use cross validation to estimate the performance, using root mean squared error as performance metric. The \"caret\" package will be used in this process.\n",
    "\n",
    "[kaggle link]: http://blog.kaggle.com/2015/06/22/profiling-top-kagglers-owen-zhang-currently-1-in-the-world/\n",
    "[uci link]: https://archive.ics.uci.edu/ml/datasets/Housing"
   ]
  },
  {
   "cell_type": "code",
   "execution_count": 1,
   "metadata": {
    "collapsed": false,
    "scrolled": false
   },
   "outputs": [
    {
     "name": "stderr",
     "output_type": "stream",
     "text": [
      "Loading required package: lattice\n",
      "Loading required package: ggplot2\n",
      "Warning message:\n",
      ": package 'ggplot2' was built under R version 3.2.3Loading required package: gbm\n",
      "Loading required package: survival\n",
      "\n",
      "Attaching package: 'survival'\n",
      "\n",
      "The following object is masked from 'package:caret':\n",
      "\n",
      "    cluster\n",
      "\n",
      "Loading required package: splines\n",
      "Loading required package: parallel\n",
      "Loaded gbm 2.1.1\n",
      "Loading required package: plyr\n"
     ]
    },
    {
     "name": "stdout",
     "output_type": "stream",
     "text": [
      "Stochastic Gradient Boosting \n",
      "\n",
      "506 samples\n",
      " 13 predictor\n",
      "\n",
      "No pre-processing\n",
      "Resampling: Cross-Validated (5 fold) \n",
      "Summary of sample sizes: 406, 405, 405, 404, 404 \n",
      "Resampling results across tuning parameters:\n",
      "\n",
      "  shrinkage  interaction.depth  n.minobsinnode  n.trees  RMSE      Rsquared \n",
      "  0.001      2                  1                5000    3.898249  0.8206939\n",
      "  0.001      2                  1               10000    3.702223  0.8365606\n",
      "  0.001      2                  2                5000    3.871375  0.8226767\n",
      "  0.001      2                  2               10000    3.690456  0.8378222\n",
      "  0.001      4                  1                5000    3.439217  0.8596083\n",
      "  0.001      4                  1               10000    3.247005  0.8738005\n",
      "  0.001      4                  2                5000    3.460390  0.8580262\n",
      "  0.001      4                  2               10000    3.287990  0.8711876\n",
      "  0.010      2                  1                5000    3.381274  0.8627487\n",
      "  0.010      2                  1               10000    3.380471  0.8629391\n",
      "  0.010      2                  2                5000    3.390109  0.8630761\n",
      "  0.010      2                  2               10000    3.377738  0.8642030\n",
      "  0.010      4                  1                5000    3.180670  0.8787298\n",
      "  0.010      4                  1               10000    3.201213  0.8770894\n",
      "  0.010      4                  2                5000    3.194765  0.8778454\n",
      "  0.010      4                  2               10000    3.221816  0.8756927\n",
      "  RMSE SD    Rsquared SD\n",
      "  0.5244331  0.04597718 \n",
      "  0.4278443  0.04289509 \n",
      "  0.5426912  0.04855217 \n",
      "  0.4342414  0.04380903 \n",
      "  0.5989271  0.04296814 \n",
      "  0.5785472  0.03952637 \n",
      "  0.6127582  0.04353535 \n",
      "  0.5624907  0.03812273 \n",
      "  0.4932594  0.04290461 \n",
      "  0.5467125  0.04480169 \n",
      "  0.4628466  0.03896790 \n",
      "  0.4879039  0.03975280 \n",
      "  0.6262350  0.04002592 \n",
      "  0.6383797  0.04083893 \n",
      "  0.6168927  0.03994142 \n",
      "  0.6355333  0.04144860 \n",
      "\n",
      "RMSE was used to select the optimal model using  the smallest value.\n",
      "The final values used for the model were n.trees = 5000, interaction.depth =\n",
      " 4, shrinkage = 0.01 and n.minobsinnode = 1. \n"
     ]
    },
    {
     "data": {
      "image/png": "[encoded data removed]"
     },
     "metadata": {},
     "output_type": "display_data"
    }
   ],
   "source": [
    "# load the libraries\n",
    "library(MASS) # to use the Boston dataset\n",
    "library(caret) # to estimate hyperparameters\n",
    "\n",
    "# show images inline\n",
    "options(jupyter.plot_mimetypes = 'image/png')\n",
    "\n",
    "# prepare training scheme\n",
    "control <- trainControl(method = \"cv\", number = 5)\n",
    "\n",
    "# design the parameter tuning grid \n",
    "grid <- expand.grid(n.trees = c(5000, 10000), \n",
    "                    interaction.depth = c(2, 4), \n",
    "                    n.minobsinnode = c(1, 2), \n",
    "                    shrinkage = c(0.001, 0.01))\n",
    "\n",
    "# tune the parameters\n",
    "gbm1 <- train(medv ~ ., data = Boston, method=\"gbm\", distribution = \"gaussian\",\n",
    "              trControl = control, verbose = FALSE, tuneGrid = grid, metric = \"RMSE\")\n",
    "\n",
    "# summarize the model\n",
    "print(gbm1)\n",
    "\n",
    "# plot cv results\n",
    "plot(gbm1)"
   ]
  },
  {
   "cell_type": "markdown",
   "metadata": {},
   "source": [
    "### 3.2  Fit Model with Estimated Parameters\n",
    "With the selected parameter values from above, we can fit a GBM model."
   ]
  },
  {
   "cell_type": "code",
   "execution_count": 2,
   "metadata": {
    "collapsed": false
   },
   "outputs": [],
   "source": [
    "# fit the model\n",
    "gbm2 <- gbm(medv ~ ., \n",
    "            distribution = \"gaussian\", \n",
    "            n.trees = 5000, \n",
    "            interaction.depth = 4, \n",
    "            n.minobsinnode = 1,\n",
    "            shrinkage = 0.01, \n",
    "            cv.folds = 5,\n",
    "            data = Boston)"
   ]
  },
  {
   "cell_type": "markdown",
   "metadata": {},
   "source": [
    "For the fitted model,we can look closely at how the number of trees affect loss function on training and validation data to select the best value."
   ]
  },
  {
   "cell_type": "code",
   "execution_count": 3,
   "metadata": {
    "collapsed": false,
    "scrolled": false
   },
   "outputs": [
    {
     "name": "stdout",
     "output_type": "stream",
     "text": [
      "gbm(formula = medv ~ ., distribution = \"gaussian\", data = Boston, \n",
      "    n.trees = 5000, interaction.depth = 4, n.minobsinnode = 1, \n",
      "    shrinkage = 0.01, cv.folds = 5)\n",
      "A gradient boosted model with gaussian loss function.\n",
      "5000 iterations were performed.\n",
      "The best cross-validation iteration was 3210.\n",
      "There were 13 predictors of which 13 had non-zero influence.\n"
     ]
    },
    {
     "data": {
      "image/png": "[encoded data removed]"
     },
     "metadata": {},
     "output_type": "display_data"
    }
   ],
   "source": [
    "# print model\n",
    "print(gbm2) \n",
    "# check performance using 5-fold cross-validation\n",
    "best.iter <- gbm.perf(gbm2,method=\"cv\")"
   ]
  },
  {
   "cell_type": "markdown",
   "metadata": {},
   "source": [
    "A plot comparing the importance of variables is generated with the following code. "
   ]
  },
  {
   "cell_type": "code",
   "execution_count": 4,
   "metadata": {
    "collapsed": false
   },
   "outputs": [
    {
     "data": {
      "image/png": "[encoded data removed]"
     },
     "metadata": {},
     "output_type": "display_data"
    }
   ],
   "source": [
    "# check variable importance\n",
    "f_imp <- summary(gbm2, n.trees = best.iter, plot = FALSE) \n",
    "# use a custom plot to show variable importance\n",
    "barplot(f_imp$rel.inf, names.arg = f_imp$var, xlab = \"Feature\", ylab = \"Relative influence\", cex.names = 0.8)"
   ]
  },
  {
   "cell_type": "markdown",
   "metadata": {},
   "source": [
    "## 4 Web service\n",
    "### 4.1 Deploy a web service\n",
    "With the developed model, we can deploy a web service so that others can use it to make predictions. The \"AzureML\" package will be used for this purpose. "
   ]
  },
  {
   "cell_type": "code",
   "execution_count": 5,
   "metadata": {
    "collapsed": false
   },
   "outputs": [
    {
     "name": "stderr",
     "output_type": "stream",
     "text": [
      "Warning message:\n",
      ": package 'AzureML' was built under R version 3.2.3"
     ]
    },
    {
     "name": "stdout",
     "output_type": "stream",
     "text": [
      "[1] 24.44367\n"
     ]
    }
   ],
   "source": [
    "# load the library\n",
    "library(AzureML)\n",
    "\n",
    "# workspace information\n",
    "ws <- workspace()\n",
    "\n",
    "# define predict function\n",
    "mypredict <- function(newdata)\n",
    "{\n",
    "  require(gbm)\n",
    "  res <- predict(gbm2, newdata, best.iter)\n",
    "  res\n",
    "}\n",
    "\n",
    "# test the prediction function\n",
    "newdata <- Boston[1, 1:13]\n",
    "print(mypredict(newdata))\n",
    "\n",
    "# Publish the service\n",
    "ep <- publishWebService(ws = ws, fun = mypredict, name = \"HousePricePredictionGBM\", inputSchema = newdata)"
   ]
  },
  {
   "cell_type": "markdown",
   "metadata": {},
   "source": [
    "### 4.2 Consume a web service\n",
    "With information about the workspace and and service ID, we can consume the web service with the following code."
   ]
  },
  {
   "cell_type": "code",
   "execution_count": 6,
   "metadata": {
    "collapsed": false
   },
   "outputs": [
    {
     "data": {
      "text/html": [
       "<table>\n",
       "<thead><tr><th></th><th scope=col>ans</th></tr></thead>\n",
       "<tbody>\n",
       "\t<tr><th scope=row>1</th><td>24.44367</td></tr>\n",
       "</tbody>\n",
       "</table>\n"
      ],
      "text/latex": [
       "\\begin{tabular}{r|l}\n",
       "  & ans\\\\\n",
       "\\hline\n",
       "\t1 & 24.44367\\\\\n",
       "\\end{tabular}\n"
      ],
      "text/plain": [
       "       ans\n",
       "1 24.44367"
      ]
     },
     "execution_count": 6,
     "metadata": {},
     "output_type": "execute_result"
    }
   ],
   "source": [
    "# save workspace ID and authorization token\n",
    "ws_id <- ws$id\n",
    "ws_auth <- ws$.auth\n",
    "# save web service ID\n",
    "service_id <- ep$WebServiceId\n",
    "# define workspace, this is necessary if you are running outside of the service deployment session\n",
    "ws <- workspace(\n",
    "   id = ws_id,\n",
    "   auth = ws_auth\n",
    ")\n",
    "# defind endpoint based on workspace and service ID information\n",
    "ep_price_pred <- endpoints(ws, service_id)\n",
    "# consume\n",
    "consume(ep_price_pred, newdata)"
   ]
  },
  {
   "cell_type": "markdown",
   "metadata": {},
   "source": [
    "## 5 Conclusion\n",
    "Using the Boston housing dataset, we started the analysis by estimating the parameters in the GBM model. Then we fitted the model and examined variable importance. A web service was also deployed based on the selected model.\n",
    "\n",
    "In addition to the Gaussian distribution which uses squared error loss function, the \"gbm\" package allows for several other distributions: laplace which uses absolute loss, t-distribution which uses t-distribution loss, etc. \n",
    "\n",
    "The \"caret\" package makes it possible to easily tune the hyperparameters on a grid. \n",
    "\n",
    "---  \n",
    "Created by a Microsoft Employee.  \n",
    "Copyright (C) Microsoft. All Rights Reserved."
   ]
  }
 ],
 "metadata": {
  "kernelspec": {
   "display_name": "R",
   "language": "R",
   "name": "ir"
  },
  "language_info": {
   "codemirror_mode": "r",
   "file_extension": ".r",
   "mimetype": "text/x-r-source",
   "name": "R",
   "pygments_lexer": "r",
   "version": "3.2.2"
  }
 },
 "nbformat": 4,
 "nbformat_minor": 0
}
